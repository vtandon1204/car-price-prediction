{
 "cells": [
  {
   "cell_type": "code",
   "execution_count": 1,
   "id": "9690c0cf",
   "metadata": {
    "_cell_guid": "b1076dfc-b9ad-4769-8c92-a6c4dae69d19",
    "_uuid": "8f2839f25d086af736a60e9eeb907d3b93b6e0e5",
    "execution": {
     "iopub.execute_input": "2024-11-19T17:01:07.658834Z",
     "iopub.status.busy": "2024-11-19T17:01:07.658600Z",
     "iopub.status.idle": "2024-11-19T17:01:07.671731Z",
     "shell.execute_reply": "2024-11-19T17:01:07.670952Z"
    },
    "papermill": {
     "duration": 0.02859,
     "end_time": "2024-11-19T17:01:07.673402",
     "exception": false,
     "start_time": "2024-11-19T17:01:07.644812",
     "status": "completed"
    },
    "tags": []
   },
   "outputs": [],
   "source": [
    "import numpy as np\n",
    "import pandas as pd\n",
    "# import os\n",
    "# for dirname, _, filenames in os.walk('/kaggle/input'):\n",
    "#     for filename in filenames:\n",
    "#         print(os.path.join(dirname, filename))\n",
    "\n",
    "# You can write up to 20GB to the current directory (/kaggle/working/) that gets preserved as output when you create a version using \"Save & Run All\" \n",
    "# You can also write temporary files to /kaggle/temp/, but they won't be saved outside of the current session"
   ]
  },
  {
   "cell_type": "markdown",
   "id": "9c116a36",
   "metadata": {
    "papermill": {
     "duration": 0.012512,
     "end_time": "2024-11-19T17:01:07.698436",
     "exception": false,
     "start_time": "2024-11-19T17:01:07.685924",
     "status": "completed"
    },
    "tags": []
   },
   "source": [
    "## **Importing all the essential libraries**\n",
    "---\n",
    "---"
   ]
  },
  {
   "cell_type": "code",
   "execution_count": 2,
   "id": "6be6f3f6",
   "metadata": {
    "execution": {
     "iopub.execute_input": "2024-11-19T17:01:07.723113Z",
     "iopub.status.busy": "2024-11-19T17:01:07.722891Z",
     "iopub.status.idle": "2024-11-19T17:01:08.752428Z",
     "shell.execute_reply": "2024-11-19T17:01:08.751795Z"
    },
    "papermill": {
     "duration": 1.044164,
     "end_time": "2024-11-19T17:01:08.754400",
     "exception": false,
     "start_time": "2024-11-19T17:01:07.710236",
     "status": "completed"
    },
    "tags": []
   },
   "outputs": [],
   "source": [
    "import pandas as pd\n",
    "import numpy as np\n",
    "import matplotlib.pyplot as plt\n",
    "import seaborn as sns\n",
    "from sklearn.preprocessing import StandardScaler\n",
    "from sklearn.preprocessing import LabelEncoder\n",
    "from sklearn.preprocessing import OneHotEncoder\n",
    "from sklearn.preprocessing import OrdinalEncoder\n",
    "from sklearn.compose import ColumnTransformer"
   ]
  },
  {
   "cell_type": "code",
   "execution_count": 3,
   "id": "ca260194",
   "metadata": {
    "execution": {
     "iopub.execute_input": "2024-11-19T17:01:08.780568Z",
     "iopub.status.busy": "2024-11-19T17:01:08.780298Z",
     "iopub.status.idle": "2024-11-19T17:01:43.699401Z",
     "shell.execute_reply": "2024-11-19T17:01:43.698725Z"
    },
    "papermill": {
     "duration": 34.93417,
     "end_time": "2024-11-19T17:01:43.701390",
     "exception": false,
     "start_time": "2024-11-19T17:01:08.767220",
     "status": "completed"
    },
    "tags": []
   },
   "outputs": [],
   "source": [
    "df = pd.read_csv('data/vehicles.csv')"
   ]
  },
  {
   "cell_type": "markdown",
   "id": "33e5dc82",
   "metadata": {
    "papermill": {
     "duration": 0.011792,
     "end_time": "2024-11-19T17:01:43.725882",
     "exception": false,
     "start_time": "2024-11-19T17:01:43.714090",
     "status": "completed"
    },
    "tags": []
   },
   "source": [
    "# **Exploratory Data Analysis (EDA)**"
   ]
  },
  {
   "cell_type": "code",
   "execution_count": 4,
   "id": "68b0bf39",
   "metadata": {
    "execution": {
     "iopub.execute_input": "2024-11-19T17:01:43.750561Z",
     "iopub.status.busy": "2024-11-19T17:01:43.750278Z",
     "iopub.status.idle": "2024-11-19T17:01:43.787155Z",
     "shell.execute_reply": "2024-11-19T17:01:43.786365Z"
    },
    "papermill": {
     "duration": 0.050921,
     "end_time": "2024-11-19T17:01:43.788645",
     "exception": false,
     "start_time": "2024-11-19T17:01:43.737724",
     "status": "completed"
    },
    "tags": []
   },
   "outputs": [
    {
     "data": {
      "text/html": [
       "<div>\n",
       "<style scoped>\n",
       "    .dataframe tbody tr th:only-of-type {\n",
       "        vertical-align: middle;\n",
       "    }\n",
       "\n",
       "    .dataframe tbody tr th {\n",
       "        vertical-align: top;\n",
       "    }\n",
       "\n",
       "    .dataframe thead th {\n",
       "        text-align: right;\n",
       "    }\n",
       "</style>\n",
       "<table border=\"1\" class=\"dataframe\">\n",
       "  <thead>\n",
       "    <tr style=\"text-align: right;\">\n",
       "      <th></th>\n",
       "      <th>id</th>\n",
       "      <th>url</th>\n",
       "      <th>region</th>\n",
       "      <th>region_url</th>\n",
       "      <th>price</th>\n",
       "      <th>year</th>\n",
       "      <th>manufacturer</th>\n",
       "      <th>model</th>\n",
       "      <th>condition</th>\n",
       "      <th>cylinders</th>\n",
       "      <th>...</th>\n",
       "      <th>size</th>\n",
       "      <th>type</th>\n",
       "      <th>paint_color</th>\n",
       "      <th>image_url</th>\n",
       "      <th>description</th>\n",
       "      <th>county</th>\n",
       "      <th>state</th>\n",
       "      <th>lat</th>\n",
       "      <th>long</th>\n",
       "      <th>posting_date</th>\n",
       "    </tr>\n",
       "  </thead>\n",
       "  <tbody>\n",
       "    <tr>\n",
       "      <th>62721</th>\n",
       "      <td>7316284049</td>\n",
       "      <td>https://sfbay.craigslist.org/sfc/ctd/d/burling...</td>\n",
       "      <td>SF bay area</td>\n",
       "      <td>https://sfbay.craigslist.org</td>\n",
       "      <td>48888</td>\n",
       "      <td>2018.0</td>\n",
       "      <td>gmc</td>\n",
       "      <td>yukon</td>\n",
       "      <td>excellent</td>\n",
       "      <td>other</td>\n",
       "      <td>...</td>\n",
       "      <td>NaN</td>\n",
       "      <td>other</td>\n",
       "      <td>black</td>\n",
       "      <td>https://images.craigslist.org/00Q0Q_cbb3kAiFkO...</td>\n",
       "      <td>2018 **GMC Yukon**   Available at: Putnam Chev...</td>\n",
       "      <td>NaN</td>\n",
       "      <td>ca</td>\n",
       "      <td>37.578827</td>\n",
       "      <td>-122.342952</td>\n",
       "      <td>2021-05-03T10:10:32-0700</td>\n",
       "    </tr>\n",
       "    <tr>\n",
       "      <th>308588</th>\n",
       "      <td>7313976414</td>\n",
       "      <td>https://tulsa.craigslist.org/cto/d/sand-spring...</td>\n",
       "      <td>tulsa</td>\n",
       "      <td>https://tulsa.craigslist.org</td>\n",
       "      <td>20000</td>\n",
       "      <td>1979.0</td>\n",
       "      <td>chevrolet</td>\n",
       "      <td>el camino</td>\n",
       "      <td>excellent</td>\n",
       "      <td>8 cylinders</td>\n",
       "      <td>...</td>\n",
       "      <td>full-size</td>\n",
       "      <td>pickup</td>\n",
       "      <td>black</td>\n",
       "      <td>https://images.craigslist.org/00I0I_56IhJzqS68...</td>\n",
       "      <td>I have a 79 Chevy El Camino show car for sale ...</td>\n",
       "      <td>NaN</td>\n",
       "      <td>ok</td>\n",
       "      <td>36.134100</td>\n",
       "      <td>-96.142600</td>\n",
       "      <td>2021-04-28T14:09:46-0500</td>\n",
       "    </tr>\n",
       "    <tr>\n",
       "      <th>202747</th>\n",
       "      <td>7304749451</td>\n",
       "      <td>https://grandrapids.craigslist.org/ctd/d/shelb...</td>\n",
       "      <td>grand rapids</td>\n",
       "      <td>https://grandrapids.craigslist.org</td>\n",
       "      <td>26500</td>\n",
       "      <td>2012.0</td>\n",
       "      <td>chevrolet</td>\n",
       "      <td>express passenger</td>\n",
       "      <td>excellent</td>\n",
       "      <td>8 cylinders</td>\n",
       "      <td>...</td>\n",
       "      <td>full-size</td>\n",
       "      <td>van</td>\n",
       "      <td>NaN</td>\n",
       "      <td>https://images.craigslist.org/00606_cVTctQ0URy...</td>\n",
       "      <td>2012 Chevrolet Express Passenger Conversion Va...</td>\n",
       "      <td>NaN</td>\n",
       "      <td>mi</td>\n",
       "      <td>42.629639</td>\n",
       "      <td>-85.540409</td>\n",
       "      <td>2021-04-10T13:09:40-0400</td>\n",
       "    </tr>\n",
       "    <tr>\n",
       "      <th>183583</th>\n",
       "      <td>7304350429</td>\n",
       "      <td>https://baltimore.craigslist.org/ctd/d/joppa-2...</td>\n",
       "      <td>baltimore</td>\n",
       "      <td>https://baltimore.craigslist.org</td>\n",
       "      <td>3100</td>\n",
       "      <td>2007.0</td>\n",
       "      <td>mercury</td>\n",
       "      <td>mountaineer</td>\n",
       "      <td>NaN</td>\n",
       "      <td>6 cylinders</td>\n",
       "      <td>...</td>\n",
       "      <td>NaN</td>\n",
       "      <td>SUV</td>\n",
       "      <td>black</td>\n",
       "      <td>https://images.craigslist.org/00Z0Z_131FQWG6e8...</td>\n",
       "      <td>This 2007 Mercury Mountaineer has been SOLD bu...</td>\n",
       "      <td>NaN</td>\n",
       "      <td>md</td>\n",
       "      <td>39.433086</td>\n",
       "      <td>-76.343119</td>\n",
       "      <td>2021-04-09T16:11:16-0400</td>\n",
       "    </tr>\n",
       "    <tr>\n",
       "      <th>79753</th>\n",
       "      <td>7308467325</td>\n",
       "      <td>https://fortcollins.craigslist.org/ctd/d/longm...</td>\n",
       "      <td>fort collins / north CO</td>\n",
       "      <td>https://fortcollins.craigslist.org</td>\n",
       "      <td>7995</td>\n",
       "      <td>2009.0</td>\n",
       "      <td>honda</td>\n",
       "      <td>pilot awd</td>\n",
       "      <td>excellent</td>\n",
       "      <td>NaN</td>\n",
       "      <td>...</td>\n",
       "      <td>NaN</td>\n",
       "      <td>NaN</td>\n",
       "      <td>NaN</td>\n",
       "      <td>https://images.craigslist.org/00808_eT3SPiDCzE...</td>\n",
       "      <td>STK# 3921 2009 HONDA PILOT, AWD, TIMING BELT R...</td>\n",
       "      <td>NaN</td>\n",
       "      <td>co</td>\n",
       "      <td>40.151292</td>\n",
       "      <td>-105.103776</td>\n",
       "      <td>2021-04-17T14:55:25-0600</td>\n",
       "    </tr>\n",
       "  </tbody>\n",
       "</table>\n",
       "<p>5 rows × 26 columns</p>\n",
       "</div>"
      ],
      "text/plain": [
       "                id                                                url  \\\n",
       "62721   7316284049  https://sfbay.craigslist.org/sfc/ctd/d/burling...   \n",
       "308588  7313976414  https://tulsa.craigslist.org/cto/d/sand-spring...   \n",
       "202747  7304749451  https://grandrapids.craigslist.org/ctd/d/shelb...   \n",
       "183583  7304350429  https://baltimore.craigslist.org/ctd/d/joppa-2...   \n",
       "79753   7308467325  https://fortcollins.craigslist.org/ctd/d/longm...   \n",
       "\n",
       "                         region                          region_url  price  \\\n",
       "62721               SF bay area        https://sfbay.craigslist.org  48888   \n",
       "308588                    tulsa        https://tulsa.craigslist.org  20000   \n",
       "202747             grand rapids  https://grandrapids.craigslist.org  26500   \n",
       "183583                baltimore    https://baltimore.craigslist.org   3100   \n",
       "79753   fort collins / north CO  https://fortcollins.craigslist.org   7995   \n",
       "\n",
       "          year manufacturer              model  condition    cylinders  ...  \\\n",
       "62721   2018.0          gmc              yukon  excellent        other  ...   \n",
       "308588  1979.0    chevrolet          el camino  excellent  8 cylinders  ...   \n",
       "202747  2012.0    chevrolet  express passenger  excellent  8 cylinders  ...   \n",
       "183583  2007.0      mercury        mountaineer        NaN  6 cylinders  ...   \n",
       "79753   2009.0        honda          pilot awd  excellent          NaN  ...   \n",
       "\n",
       "             size    type paint_color  \\\n",
       "62721         NaN   other       black   \n",
       "308588  full-size  pickup       black   \n",
       "202747  full-size     van         NaN   \n",
       "183583        NaN     SUV       black   \n",
       "79753         NaN     NaN         NaN   \n",
       "\n",
       "                                                image_url  \\\n",
       "62721   https://images.craigslist.org/00Q0Q_cbb3kAiFkO...   \n",
       "308588  https://images.craigslist.org/00I0I_56IhJzqS68...   \n",
       "202747  https://images.craigslist.org/00606_cVTctQ0URy...   \n",
       "183583  https://images.craigslist.org/00Z0Z_131FQWG6e8...   \n",
       "79753   https://images.craigslist.org/00808_eT3SPiDCzE...   \n",
       "\n",
       "                                              description county state  \\\n",
       "62721   2018 **GMC Yukon**   Available at: Putnam Chev...    NaN    ca   \n",
       "308588  I have a 79 Chevy El Camino show car for sale ...    NaN    ok   \n",
       "202747  2012 Chevrolet Express Passenger Conversion Va...    NaN    mi   \n",
       "183583  This 2007 Mercury Mountaineer has been SOLD bu...    NaN    md   \n",
       "79753   STK# 3921 2009 HONDA PILOT, AWD, TIMING BELT R...    NaN    co   \n",
       "\n",
       "              lat        long              posting_date  \n",
       "62721   37.578827 -122.342952  2021-05-03T10:10:32-0700  \n",
       "308588  36.134100  -96.142600  2021-04-28T14:09:46-0500  \n",
       "202747  42.629639  -85.540409  2021-04-10T13:09:40-0400  \n",
       "183583  39.433086  -76.343119  2021-04-09T16:11:16-0400  \n",
       "79753   40.151292 -105.103776  2021-04-17T14:55:25-0600  \n",
       "\n",
       "[5 rows x 26 columns]"
      ]
     },
     "execution_count": 4,
     "metadata": {},
     "output_type": "execute_result"
    }
   ],
   "source": [
    "df.sample(5)"
   ]
  },
  {
   "cell_type": "code",
   "execution_count": 5,
   "id": "e68bf959",
   "metadata": {
    "execution": {
     "iopub.execute_input": "2024-11-19T17:01:43.814018Z",
     "iopub.status.busy": "2024-11-19T17:01:43.813798Z",
     "iopub.status.idle": "2024-11-19T17:01:43.899177Z",
     "shell.execute_reply": "2024-11-19T17:01:43.898636Z"
    },
    "papermill": {
     "duration": 0.099961,
     "end_time": "2024-11-19T17:01:43.900792",
     "exception": false,
     "start_time": "2024-11-19T17:01:43.800831",
     "status": "completed"
    },
    "tags": []
   },
   "outputs": [],
   "source": [
    "df.index = [0] * len(df)"
   ]
  },
  {
   "cell_type": "code",
   "execution_count": 6,
   "id": "d1a4f366",
   "metadata": {
    "execution": {
     "iopub.execute_input": "2024-11-19T17:01:43.926412Z",
     "iopub.status.busy": "2024-11-19T17:01:43.926205Z",
     "iopub.status.idle": "2024-11-19T17:01:43.930746Z",
     "shell.execute_reply": "2024-11-19T17:01:43.930022Z"
    },
    "papermill": {
     "duration": 0.019303,
     "end_time": "2024-11-19T17:01:43.932399",
     "exception": false,
     "start_time": "2024-11-19T17:01:43.913096",
     "status": "completed"
    },
    "tags": []
   },
   "outputs": [
    {
     "data": {
      "text/plain": [
       "(426880, 26)"
      ]
     },
     "execution_count": 6,
     "metadata": {},
     "output_type": "execute_result"
    }
   ],
   "source": [
    "df.shape"
   ]
  },
  {
   "cell_type": "code",
   "execution_count": 7,
   "id": "35e2215f",
   "metadata": {
    "execution": {
     "iopub.execute_input": "2024-11-19T17:01:43.957992Z",
     "iopub.status.busy": "2024-11-19T17:01:43.957775Z",
     "iopub.status.idle": "2024-11-19T17:01:43.962671Z",
     "shell.execute_reply": "2024-11-19T17:01:43.961904Z"
    },
    "papermill": {
     "duration": 0.019412,
     "end_time": "2024-11-19T17:01:43.964062",
     "exception": false,
     "start_time": "2024-11-19T17:01:43.944650",
     "status": "completed"
    },
    "tags": []
   },
   "outputs": [
    {
     "data": {
      "text/plain": [
       "Index(['id', 'url', 'region', 'region_url', 'price', 'year', 'manufacturer',\n",
       "       'model', 'condition', 'cylinders', 'fuel', 'odometer', 'title_status',\n",
       "       'transmission', 'VIN', 'drive', 'size', 'type', 'paint_color',\n",
       "       'image_url', 'description', 'county', 'state', 'lat', 'long',\n",
       "       'posting_date'],\n",
       "      dtype='object')"
      ]
     },
     "execution_count": 7,
     "metadata": {},
     "output_type": "execute_result"
    }
   ],
   "source": [
    "df.columns"
   ]
  },
  {
   "cell_type": "markdown",
   "id": "b1cc8aca",
   "metadata": {
    "papermill": {
     "duration": 0.012464,
     "end_time": "2024-11-19T17:01:43.988936",
     "exception": false,
     "start_time": "2024-11-19T17:01:43.976472",
     "status": "completed"
    },
    "tags": []
   },
   "source": [
    "### **Checking total missing values**\n",
    "---"
   ]
  },
  {
   "cell_type": "code",
   "execution_count": 8,
   "id": "9e49172f",
   "metadata": {
    "execution": {
     "iopub.execute_input": "2024-11-19T17:01:44.014759Z",
     "iopub.status.busy": "2024-11-19T17:01:44.014559Z",
     "iopub.status.idle": "2024-11-19T17:01:44.979940Z",
     "shell.execute_reply": "2024-11-19T17:01:44.979084Z"
    },
    "papermill": {
     "duration": 0.980329,
     "end_time": "2024-11-19T17:01:44.981747",
     "exception": false,
     "start_time": "2024-11-19T17:01:44.001418",
     "status": "completed"
    },
    "tags": []
   },
   "outputs": [
    {
     "data": {
      "text/plain": [
       "id                   0\n",
       "url                  0\n",
       "region               0\n",
       "region_url           0\n",
       "price                0\n",
       "year              1205\n",
       "manufacturer     17646\n",
       "model             5277\n",
       "condition       174104\n",
       "cylinders       177678\n",
       "fuel              3013\n",
       "odometer          4400\n",
       "title_status      8242\n",
       "transmission      2556\n",
       "VIN             161042\n",
       "drive           130567\n",
       "size            306361\n",
       "type             92858\n",
       "paint_color     130203\n",
       "image_url           68\n",
       "description         70\n",
       "county          426880\n",
       "state                0\n",
       "lat               6549\n",
       "long              6549\n",
       "posting_date        68\n",
       "dtype: int64"
      ]
     },
     "execution_count": 8,
     "metadata": {},
     "output_type": "execute_result"
    }
   ],
   "source": [
    "df.isna().sum()"
   ]
  },
  {
   "cell_type": "code",
   "execution_count": 9,
   "id": "96c1c619",
   "metadata": {
    "execution": {
     "iopub.execute_input": "2024-11-19T17:01:45.008917Z",
     "iopub.status.busy": "2024-11-19T17:01:45.008388Z",
     "iopub.status.idle": "2024-11-19T17:01:45.991759Z",
     "shell.execute_reply": "2024-11-19T17:01:45.990956Z"
    },
    "papermill": {
     "duration": 0.9988,
     "end_time": "2024-11-19T17:01:45.993765",
     "exception": false,
     "start_time": "2024-11-19T17:01:44.994965",
     "status": "completed"
    },
    "tags": []
   },
   "outputs": [
    {
     "name": "stdout",
     "output_type": "stream",
     "text": [
      "<class 'pandas.core.frame.DataFrame'>\n",
      "Index: 426880 entries, 0 to 0\n",
      "Data columns (total 26 columns):\n",
      " #   Column        Non-Null Count   Dtype  \n",
      "---  ------        --------------   -----  \n",
      " 0   id            426880 non-null  int64  \n",
      " 1   url           426880 non-null  object \n",
      " 2   region        426880 non-null  object \n",
      " 3   region_url    426880 non-null  object \n",
      " 4   price         426880 non-null  int64  \n",
      " 5   year          425675 non-null  float64\n",
      " 6   manufacturer  409234 non-null  object \n",
      " 7   model         421603 non-null  object \n",
      " 8   condition     252776 non-null  object \n",
      " 9   cylinders     249202 non-null  object \n",
      " 10  fuel          423867 non-null  object \n",
      " 11  odometer      422480 non-null  float64\n",
      " 12  title_status  418638 non-null  object \n",
      " 13  transmission  424324 non-null  object \n",
      " 14  VIN           265838 non-null  object \n",
      " 15  drive         296313 non-null  object \n",
      " 16  size          120519 non-null  object \n",
      " 17  type          334022 non-null  object \n",
      " 18  paint_color   296677 non-null  object \n",
      " 19  image_url     426812 non-null  object \n",
      " 20  description   426810 non-null  object \n",
      " 21  county        0 non-null       float64\n",
      " 22  state         426880 non-null  object \n",
      " 23  lat           420331 non-null  float64\n",
      " 24  long          420331 non-null  float64\n",
      " 25  posting_date  426812 non-null  object \n",
      "dtypes: float64(5), int64(2), object(19)\n",
      "memory usage: 87.9+ MB\n"
     ]
    }
   ],
   "source": [
    "df.info()"
   ]
  },
  {
   "cell_type": "markdown",
   "id": "827a840f",
   "metadata": {
    "papermill": {
     "duration": 0.012821,
     "end_time": "2024-11-19T17:01:46.019888",
     "exception": false,
     "start_time": "2024-11-19T17:01:46.007067",
     "status": "completed"
    },
    "tags": []
   },
   "source": [
    "## **Data Cleaning**\n",
    "---\n",
    "---"
   ]
  },
  {
   "cell_type": "markdown",
   "id": "652215d2",
   "metadata": {
    "papermill": {
     "duration": 0.012808,
     "end_time": "2024-11-19T17:01:46.045580",
     "exception": false,
     "start_time": "2024-11-19T17:01:46.032772",
     "status": "completed"
    },
    "tags": []
   },
   "source": [
    "### **Extracting important features (Feature Selection)**\n",
    "---"
   ]
  },
  {
   "cell_type": "code",
   "execution_count": 10,
   "id": "b8382130",
   "metadata": {
    "execution": {
     "iopub.execute_input": "2024-11-19T17:01:46.072645Z",
     "iopub.status.busy": "2024-11-19T17:01:46.072051Z",
     "iopub.status.idle": "2024-11-19T17:01:46.218142Z",
     "shell.execute_reply": "2024-11-19T17:01:46.217310Z"
    },
    "papermill": {
     "duration": 0.161377,
     "end_time": "2024-11-19T17:01:46.219710",
     "exception": false,
     "start_time": "2024-11-19T17:01:46.058333",
     "status": "completed"
    },
    "tags": []
   },
   "outputs": [],
   "source": [
    "df.drop(['id', 'url', 'region_url', 'VIN', 'image_url', 'description', 'county', 'lat', 'long', 'posting_date', 'size', 'state'], axis=1, inplace=True)"
   ]
  },
  {
   "cell_type": "markdown",
   "id": "68fbd6cc",
   "metadata": {
    "papermill": {
     "duration": 0.012707,
     "end_time": "2024-11-19T17:01:46.246163",
     "exception": false,
     "start_time": "2024-11-19T17:01:46.233456",
     "status": "completed"
    },
    "tags": []
   },
   "source": [
    "### **Handling missing values**\n",
    "---\n",
    "---"
   ]
  },
  {
   "cell_type": "code",
   "execution_count": 11,
   "id": "290c8317",
   "metadata": {
    "execution": {
     "iopub.execute_input": "2024-11-19T17:01:46.273015Z",
     "iopub.status.busy": "2024-11-19T17:01:46.272726Z",
     "iopub.status.idle": "2024-11-19T17:01:46.823322Z",
     "shell.execute_reply": "2024-11-19T17:01:46.822483Z"
    },
    "papermill": {
     "duration": 0.565996,
     "end_time": "2024-11-19T17:01:46.825073",
     "exception": false,
     "start_time": "2024-11-19T17:01:46.259077",
     "status": "completed"
    },
    "tags": []
   },
   "outputs": [
    {
     "data": {
      "text/plain": [
       "region           0.000000\n",
       "price            0.000000\n",
       "year             0.282281\n",
       "manufacturer     4.133714\n",
       "model            1.236179\n",
       "condition       40.785232\n",
       "cylinders       41.622470\n",
       "fuel             0.705819\n",
       "odometer         1.030735\n",
       "title_status     1.930753\n",
       "transmission     0.598763\n",
       "drive           30.586347\n",
       "type            21.752717\n",
       "paint_color     30.501078\n",
       "dtype: float64"
      ]
     },
     "execution_count": 11,
     "metadata": {},
     "output_type": "execute_result"
    }
   ],
   "source": [
    "df.isna().sum()/df.shape[0]*100"
   ]
  },
  {
   "cell_type": "markdown",
   "id": "48461fdd",
   "metadata": {
    "papermill": {
     "duration": 0.012891,
     "end_time": "2024-11-19T17:01:46.851433",
     "exception": false,
     "start_time": "2024-11-19T17:01:46.838542",
     "status": "completed"
    },
    "tags": []
   },
   "source": [
    "**We can see that \"year\", \"manufacturer\", \"model\", and \"odometer\" column has less than 5% of null values. So we can simply drop those rows which have null values in these two columns.**"
   ]
  },
  {
   "cell_type": "code",
   "execution_count": 12,
   "id": "e9cf96a8",
   "metadata": {
    "execution": {
     "iopub.execute_input": "2024-11-19T17:01:46.878238Z",
     "iopub.status.busy": "2024-11-19T17:01:46.877994Z",
     "iopub.status.idle": "2024-11-19T17:01:47.027759Z",
     "shell.execute_reply": "2024-11-19T17:01:47.026842Z"
    },
    "papermill": {
     "duration": 0.165408,
     "end_time": "2024-11-19T17:01:47.029732",
     "exception": false,
     "start_time": "2024-11-19T17:01:46.864324",
     "status": "completed"
    },
    "tags": []
   },
   "outputs": [],
   "source": [
    "df = df.dropna(subset=['year', 'odometer', 'manufacturer', 'model'])"
   ]
  },
  {
   "cell_type": "markdown",
   "id": "b6eff049",
   "metadata": {
    "papermill": {
     "duration": 0.012905,
     "end_time": "2024-11-19T17:01:47.056282",
     "exception": false,
     "start_time": "2024-11-19T17:01:47.043377",
     "status": "completed"
    },
    "tags": []
   },
   "source": [
    "**For all the missing values in other columns, we have just converted them in to a new category, \"unknown\"**"
   ]
  },
  {
   "cell_type": "code",
   "execution_count": 13,
   "id": "0271ce7e",
   "metadata": {
    "execution": {
     "iopub.execute_input": "2024-11-19T17:01:47.083862Z",
     "iopub.status.busy": "2024-11-19T17:01:47.083344Z",
     "iopub.status.idle": "2024-11-19T17:01:47.647320Z",
     "shell.execute_reply": "2024-11-19T17:01:47.646313Z"
    },
    "papermill": {
     "duration": 0.580295,
     "end_time": "2024-11-19T17:01:47.649525",
     "exception": false,
     "start_time": "2024-11-19T17:01:47.069230",
     "status": "completed"
    },
    "tags": []
   },
   "outputs": [],
   "source": [
    "df.fillna('unknown', inplace=True)"
   ]
  },
  {
   "cell_type": "code",
   "execution_count": 14,
   "id": "5f50009e",
   "metadata": {
    "execution": {
     "iopub.execute_input": "2024-11-19T17:01:47.678211Z",
     "iopub.status.busy": "2024-11-19T17:01:47.677935Z",
     "iopub.status.idle": "2024-11-19T17:01:48.182360Z",
     "shell.execute_reply": "2024-11-19T17:01:48.181465Z"
    },
    "papermill": {
     "duration": 0.520764,
     "end_time": "2024-11-19T17:01:48.184370",
     "exception": false,
     "start_time": "2024-11-19T17:01:47.663606",
     "status": "completed"
    },
    "tags": []
   },
   "outputs": [
    {
     "name": "stdout",
     "output_type": "stream",
     "text": [
      "<class 'pandas.core.frame.DataFrame'>\n",
      "Index: 399883 entries, 0 to 0\n",
      "Data columns (total 14 columns):\n",
      " #   Column        Non-Null Count   Dtype  \n",
      "---  ------        --------------   -----  \n",
      " 0   region        399883 non-null  object \n",
      " 1   price         399883 non-null  int64  \n",
      " 2   year          399883 non-null  float64\n",
      " 3   manufacturer  399883 non-null  object \n",
      " 4   model         399883 non-null  object \n",
      " 5   condition     399883 non-null  object \n",
      " 6   cylinders     399883 non-null  object \n",
      " 7   fuel          399883 non-null  object \n",
      " 8   odometer      399883 non-null  float64\n",
      " 9   title_status  399883 non-null  object \n",
      " 10  transmission  399883 non-null  object \n",
      " 11  drive         399883 non-null  object \n",
      " 12  type          399883 non-null  object \n",
      " 13  paint_color   399883 non-null  object \n",
      "dtypes: float64(2), int64(1), object(11)\n",
      "memory usage: 45.8+ MB\n"
     ]
    }
   ],
   "source": [
    "df.info()"
   ]
  },
  {
   "cell_type": "markdown",
   "id": "9ddf0046",
   "metadata": {
    "papermill": {
     "duration": 0.012915,
     "end_time": "2024-11-19T17:01:48.210807",
     "exception": false,
     "start_time": "2024-11-19T17:01:48.197892",
     "status": "completed"
    },
    "tags": []
   },
   "source": [
    "### **Handling duplicated values**\n",
    "---\n",
    "---"
   ]
  },
  {
   "cell_type": "code",
   "execution_count": 15,
   "id": "174d1e34",
   "metadata": {
    "execution": {
     "iopub.execute_input": "2024-11-19T17:01:48.237980Z",
     "iopub.status.busy": "2024-11-19T17:01:48.237708Z",
     "iopub.status.idle": "2024-11-19T17:01:48.508506Z",
     "shell.execute_reply": "2024-11-19T17:01:48.507648Z"
    },
    "papermill": {
     "duration": 0.286403,
     "end_time": "2024-11-19T17:01:48.510201",
     "exception": false,
     "start_time": "2024-11-19T17:01:48.223798",
     "status": "completed"
    },
    "tags": []
   },
   "outputs": [
    {
     "data": {
      "text/plain": [
       "53043"
      ]
     },
     "execution_count": 15,
     "metadata": {},
     "output_type": "execute_result"
    }
   ],
   "source": [
    "df.duplicated().sum()"
   ]
  },
  {
   "cell_type": "code",
   "execution_count": 16,
   "id": "e1673be5",
   "metadata": {
    "execution": {
     "iopub.execute_input": "2024-11-19T17:01:48.538815Z",
     "iopub.status.busy": "2024-11-19T17:01:48.538543Z",
     "iopub.status.idle": "2024-11-19T17:01:48.873798Z",
     "shell.execute_reply": "2024-11-19T17:01:48.872825Z"
    },
    "papermill": {
     "duration": 0.351621,
     "end_time": "2024-11-19T17:01:48.875776",
     "exception": false,
     "start_time": "2024-11-19T17:01:48.524155",
     "status": "completed"
    },
    "tags": []
   },
   "outputs": [],
   "source": [
    "df = df.drop_duplicates()"
   ]
  },
  {
   "cell_type": "code",
   "execution_count": 17,
   "id": "a7c16c9b",
   "metadata": {
    "execution": {
     "iopub.execute_input": "2024-11-19T17:01:48.905932Z",
     "iopub.status.busy": "2024-11-19T17:01:48.905233Z",
     "iopub.status.idle": "2024-11-19T17:01:48.910299Z",
     "shell.execute_reply": "2024-11-19T17:01:48.909534Z"
    },
    "papermill": {
     "duration": 0.021942,
     "end_time": "2024-11-19T17:01:48.911946",
     "exception": false,
     "start_time": "2024-11-19T17:01:48.890004",
     "status": "completed"
    },
    "tags": []
   },
   "outputs": [
    {
     "data": {
      "text/plain": [
       "(346840, 14)"
      ]
     },
     "execution_count": 17,
     "metadata": {},
     "output_type": "execute_result"
    }
   ],
   "source": [
    "df.shape"
   ]
  },
  {
   "cell_type": "code",
   "execution_count": 18,
   "id": "e7fc45d4",
   "metadata": {
    "execution": {
     "iopub.execute_input": "2024-11-19T17:01:48.939692Z",
     "iopub.status.busy": "2024-11-19T17:01:48.939444Z",
     "iopub.status.idle": "2024-11-19T17:01:49.371074Z",
     "shell.execute_reply": "2024-11-19T17:01:49.370196Z"
    },
    "papermill": {
     "duration": 0.447359,
     "end_time": "2024-11-19T17:01:49.372766",
     "exception": false,
     "start_time": "2024-11-19T17:01:48.925407",
     "status": "completed"
    },
    "tags": []
   },
   "outputs": [
    {
     "name": "stdout",
     "output_type": "stream",
     "text": [
      "<class 'pandas.core.frame.DataFrame'>\n",
      "Index: 346840 entries, 0 to 0\n",
      "Data columns (total 14 columns):\n",
      " #   Column        Non-Null Count   Dtype  \n",
      "---  ------        --------------   -----  \n",
      " 0   region        346840 non-null  object \n",
      " 1   price         346840 non-null  int64  \n",
      " 2   year          346840 non-null  float64\n",
      " 3   manufacturer  346840 non-null  object \n",
      " 4   model         346840 non-null  object \n",
      " 5   condition     346840 non-null  object \n",
      " 6   cylinders     346840 non-null  object \n",
      " 7   fuel          346840 non-null  object \n",
      " 8   odometer      346840 non-null  float64\n",
      " 9   title_status  346840 non-null  object \n",
      " 10  transmission  346840 non-null  object \n",
      " 11  drive         346840 non-null  object \n",
      " 12  type          346840 non-null  object \n",
      " 13  paint_color   346840 non-null  object \n",
      "dtypes: float64(2), int64(1), object(11)\n",
      "memory usage: 39.7+ MB\n"
     ]
    }
   ],
   "source": [
    "df.info()"
   ]
  },
  {
   "cell_type": "markdown",
   "id": "b2b04ae4",
   "metadata": {
    "papermill": {
     "duration": 0.01401,
     "end_time": "2024-11-19T17:01:49.400437",
     "exception": false,
     "start_time": "2024-11-19T17:01:49.386427",
     "status": "completed"
    },
    "tags": []
   },
   "source": [
    "### **Categorical data cleaning**\n",
    "---"
   ]
  },
  {
   "cell_type": "code",
   "execution_count": 19,
   "id": "6922de20",
   "metadata": {
    "execution": {
     "iopub.execute_input": "2024-11-19T17:01:49.428464Z",
     "iopub.status.busy": "2024-11-19T17:01:49.428233Z",
     "iopub.status.idle": "2024-11-19T17:01:49.454305Z",
     "shell.execute_reply": "2024-11-19T17:01:49.453534Z"
    },
    "papermill": {
     "duration": 0.041932,
     "end_time": "2024-11-19T17:01:49.455953",
     "exception": false,
     "start_time": "2024-11-19T17:01:49.414021",
     "status": "completed"
    },
    "tags": []
   },
   "outputs": [],
   "source": [
    "manufacturer_values = df['manufacturer'].value_counts()"
   ]
  },
  {
   "cell_type": "code",
   "execution_count": 20,
   "id": "391503b0",
   "metadata": {
    "execution": {
     "iopub.execute_input": "2024-11-19T17:01:49.484733Z",
     "iopub.status.busy": "2024-11-19T17:01:49.484457Z",
     "iopub.status.idle": "2024-11-19T17:01:49.488817Z",
     "shell.execute_reply": "2024-11-19T17:01:49.487984Z"
    },
    "papermill": {
     "duration": 0.020489,
     "end_time": "2024-11-19T17:01:49.490471",
     "exception": false,
     "start_time": "2024-11-19T17:01:49.469982",
     "status": "completed"
    },
    "tags": []
   },
   "outputs": [
    {
     "name": "stdout",
     "output_type": "stream",
     "text": [
      "manufacturer\n",
      "ford               60022\n",
      "chevrolet          46111\n",
      "toyota             29054\n",
      "honda              18088\n",
      "jeep               15913\n",
      "nissan             15796\n",
      "ram                14641\n",
      "gmc                14283\n",
      "bmw                12802\n",
      "dodge              11137\n",
      "mercedes-benz      10083\n",
      "hyundai             8438\n",
      "volkswagen          8283\n",
      "subaru              8193\n",
      "lexus               7138\n",
      "kia                 6969\n",
      "audi                6816\n",
      "cadillac            5911\n",
      "acura               5469\n",
      "chrysler            5103\n",
      "buick               4753\n",
      "mazda               4702\n",
      "infiniti            4319\n",
      "lincoln             3764\n",
      "volvo               2907\n",
      "mitsubishi          2874\n",
      "mini                2090\n",
      "pontiac             2022\n",
      "jaguar              1813\n",
      "rover               1572\n",
      "porsche             1179\n",
      "mercury             1005\n",
      "saturn               932\n",
      "alfa-romeo           859\n",
      "tesla                812\n",
      "fiat                 699\n",
      "harley-davidson      121\n",
      "ferrari               69\n",
      "datsun                61\n",
      "aston-martin          22\n",
      "land rover            15\n",
      "Name: count, dtype: int64\n"
     ]
    }
   ],
   "source": [
    "print(manufacturer_values)"
   ]
  },
  {
   "cell_type": "code",
   "execution_count": 21,
   "id": "a70d7670",
   "metadata": {
    "execution": {
     "iopub.execute_input": "2024-11-19T17:01:49.518717Z",
     "iopub.status.busy": "2024-11-19T17:01:49.518448Z",
     "iopub.status.idle": "2024-11-19T17:01:59.130096Z",
     "shell.execute_reply": "2024-11-19T17:01:59.129233Z"
    },
    "papermill": {
     "duration": 9.627718,
     "end_time": "2024-11-19T17:01:59.131801",
     "exception": false,
     "start_time": "2024-11-19T17:01:49.504083",
     "status": "completed"
    },
    "tags": []
   },
   "outputs": [
    {
     "data": {
      "text/plain": [
       "manufacturer\n",
       "ford             60022\n",
       "chevrolet        46111\n",
       "others           36590\n",
       "toyota           29054\n",
       "honda            18088\n",
       "jeep             15913\n",
       "nissan           15796\n",
       "ram              14641\n",
       "gmc              14283\n",
       "bmw              12802\n",
       "dodge            11137\n",
       "mercedes-benz    10083\n",
       "hyundai           8438\n",
       "volkswagen        8283\n",
       "subaru            8193\n",
       "lexus             7138\n",
       "kia               6969\n",
       "audi              6816\n",
       "cadillac          5911\n",
       "acura             5469\n",
       "chrysler          5103\n",
       "Name: count, dtype: int64"
      ]
     },
     "execution_count": 21,
     "metadata": {},
     "output_type": "execute_result"
    }
   ],
   "source": [
    "temp=df['manufacturer'].apply(lambda x: x if str(x) in manufacturer_values[:20] else 'others')\n",
    "temp.value_counts()"
   ]
  },
  {
   "cell_type": "code",
   "execution_count": 22,
   "id": "24204f2d",
   "metadata": {
    "execution": {
     "iopub.execute_input": "2024-11-19T17:01:59.161440Z",
     "iopub.status.busy": "2024-11-19T17:01:59.160811Z",
     "iopub.status.idle": "2024-11-19T17:02:08.851204Z",
     "shell.execute_reply": "2024-11-19T17:02:08.850469Z"
    },
    "papermill": {
     "duration": 9.707101,
     "end_time": "2024-11-19T17:02:08.853220",
     "exception": false,
     "start_time": "2024-11-19T17:01:59.146119",
     "status": "completed"
    },
    "tags": []
   },
   "outputs": [],
   "source": [
    "df['manufacturer'] = df['manufacturer'].apply(lambda x: x if str(x) in manufacturer_values[:20] else 'others')"
   ]
  },
  {
   "cell_type": "code",
   "execution_count": 23,
   "id": "c528714f",
   "metadata": {
    "execution": {
     "iopub.execute_input": "2024-11-19T17:02:08.882867Z",
     "iopub.status.busy": "2024-11-19T17:02:08.882607Z",
     "iopub.status.idle": "2024-11-19T17:02:08.905118Z",
     "shell.execute_reply": "2024-11-19T17:02:08.904447Z"
    },
    "papermill": {
     "duration": 0.038953,
     "end_time": "2024-11-19T17:02:08.906799",
     "exception": false,
     "start_time": "2024-11-19T17:02:08.867846",
     "status": "completed"
    },
    "tags": []
   },
   "outputs": [
    {
     "data": {
      "text/plain": [
       "region\n",
       "minneapolis / st paul    2812\n",
       "seattle-tacoma           2758\n",
       "portland                 2749\n",
       "sacramento               2725\n",
       "SF bay area              2699\n",
       "                         ... \n",
       "meridian                   20\n",
       "southwest MS               13\n",
       "fort smith, AR              8\n",
       "kansas city                 8\n",
       "west virginia (old)         7\n",
       "Name: count, Length: 404, dtype: int64"
      ]
     },
     "execution_count": 23,
     "metadata": {},
     "output_type": "execute_result"
    }
   ],
   "source": [
    "df['region'].value_counts()"
   ]
  },
  {
   "cell_type": "code",
   "execution_count": 24,
   "id": "56c5a54f",
   "metadata": {
    "execution": {
     "iopub.execute_input": "2024-11-19T17:02:08.935380Z",
     "iopub.status.busy": "2024-11-19T17:02:08.935171Z",
     "iopub.status.idle": "2024-11-19T17:02:08.955541Z",
     "shell.execute_reply": "2024-11-19T17:02:08.954825Z"
    },
    "papermill": {
     "duration": 0.036412,
     "end_time": "2024-11-19T17:02:08.956986",
     "exception": false,
     "start_time": "2024-11-19T17:02:08.920574",
     "status": "completed"
    },
    "tags": []
   },
   "outputs": [
    {
     "data": {
      "text/plain": [
       "404"
      ]
     },
     "execution_count": 24,
     "metadata": {},
     "output_type": "execute_result"
    }
   ],
   "source": [
    "len(df['region'].value_counts())"
   ]
  },
  {
   "cell_type": "code",
   "execution_count": 25,
   "id": "4ca0499c",
   "metadata": {
    "execution": {
     "iopub.execute_input": "2024-11-19T17:02:08.987732Z",
     "iopub.status.busy": "2024-11-19T17:02:08.986996Z",
     "iopub.status.idle": "2024-11-19T17:02:09.519678Z",
     "shell.execute_reply": "2024-11-19T17:02:09.518565Z"
    },
    "papermill": {
     "duration": 0.550968,
     "end_time": "2024-11-19T17:02:09.521711",
     "exception": false,
     "start_time": "2024-11-19T17:02:08.970743",
     "status": "completed"
    },
    "tags": []
   },
   "outputs": [
    {
     "name": "stdout",
     "output_type": "stream",
     "text": [
      "<class 'pandas.core.frame.DataFrame'>\n",
      "Index: 346840 entries, 0 to 0\n",
      "Data columns (total 14 columns):\n",
      " #   Column        Non-Null Count   Dtype  \n",
      "---  ------        --------------   -----  \n",
      " 0   region        346840 non-null  object \n",
      " 1   price         346840 non-null  int64  \n",
      " 2   year          346840 non-null  float64\n",
      " 3   manufacturer  346840 non-null  object \n",
      " 4   model         346840 non-null  object \n",
      " 5   condition     346840 non-null  object \n",
      " 6   cylinders     346840 non-null  object \n",
      " 7   fuel          346840 non-null  object \n",
      " 8   odometer      346840 non-null  float64\n",
      " 9   title_status  346840 non-null  object \n",
      " 10  transmission  346840 non-null  object \n",
      " 11  drive         346840 non-null  object \n",
      " 12  type          346840 non-null  object \n",
      " 13  paint_color   346840 non-null  object \n",
      "dtypes: float64(2), int64(1), object(11)\n",
      "memory usage: 39.7+ MB\n"
     ]
    }
   ],
   "source": [
    "df.info()"
   ]
  },
  {
   "cell_type": "code",
   "execution_count": 26,
   "id": "873b36c6",
   "metadata": {
    "execution": {
     "iopub.execute_input": "2024-11-19T17:02:09.552299Z",
     "iopub.status.busy": "2024-11-19T17:02:09.551977Z",
     "iopub.status.idle": "2024-11-19T17:02:09.585241Z",
     "shell.execute_reply": "2024-11-19T17:02:09.584424Z"
    },
    "papermill": {
     "duration": 0.050931,
     "end_time": "2024-11-19T17:02:09.587547",
     "exception": false,
     "start_time": "2024-11-19T17:02:09.536616",
     "status": "completed"
    },
    "tags": []
   },
   "outputs": [],
   "source": [
    "df.drop('region',axis=1,inplace=True)"
   ]
  },
  {
   "cell_type": "code",
   "execution_count": 27,
   "id": "65d56abb",
   "metadata": {
    "execution": {
     "iopub.execute_input": "2024-11-19T17:02:09.624606Z",
     "iopub.status.busy": "2024-11-19T17:02:09.624005Z",
     "iopub.status.idle": "2024-11-19T17:02:10.030834Z",
     "shell.execute_reply": "2024-11-19T17:02:10.029984Z"
    },
    "papermill": {
     "duration": 0.423986,
     "end_time": "2024-11-19T17:02:10.032601",
     "exception": false,
     "start_time": "2024-11-19T17:02:09.608615",
     "status": "completed"
    },
    "tags": []
   },
   "outputs": [
    {
     "name": "stdout",
     "output_type": "stream",
     "text": [
      "<class 'pandas.core.frame.DataFrame'>\n",
      "Index: 346840 entries, 0 to 0\n",
      "Data columns (total 13 columns):\n",
      " #   Column        Non-Null Count   Dtype  \n",
      "---  ------        --------------   -----  \n",
      " 0   price         346840 non-null  int64  \n",
      " 1   year          346840 non-null  float64\n",
      " 2   manufacturer  346840 non-null  object \n",
      " 3   model         346840 non-null  object \n",
      " 4   condition     346840 non-null  object \n",
      " 5   cylinders     346840 non-null  object \n",
      " 6   fuel          346840 non-null  object \n",
      " 7   odometer      346840 non-null  float64\n",
      " 8   title_status  346840 non-null  object \n",
      " 9   transmission  346840 non-null  object \n",
      " 10  drive         346840 non-null  object \n",
      " 11  type          346840 non-null  object \n",
      " 12  paint_color   346840 non-null  object \n",
      "dtypes: float64(2), int64(1), object(10)\n",
      "memory usage: 37.0+ MB\n"
     ]
    }
   ],
   "source": [
    "df.info()"
   ]
  },
  {
   "cell_type": "code",
   "execution_count": 28,
   "id": "1a645042",
   "metadata": {
    "execution": {
     "iopub.execute_input": "2024-11-19T17:02:10.063175Z",
     "iopub.status.busy": "2024-11-19T17:02:10.062921Z",
     "iopub.status.idle": "2024-11-19T17:02:10.108567Z",
     "shell.execute_reply": "2024-11-19T17:02:10.107711Z"
    },
    "papermill": {
     "duration": 0.063258,
     "end_time": "2024-11-19T17:02:10.110816",
     "exception": false,
     "start_time": "2024-11-19T17:02:10.047558",
     "status": "completed"
    },
    "tags": []
   },
   "outputs": [
    {
     "data": {
      "text/plain": [
       "model\n",
       "f-150                        6452\n",
       "silverado 1500               4169\n",
       "1500                         3345\n",
       "camry                        2510\n",
       "silverado                    2502\n",
       "                             ... \n",
       "740lxi xdrive                   1\n",
       "6 series 2dr cpe 640i rwd       1\n",
       "fx4 sport f15o                  1\n",
       "1500trx trx                     1\n",
       "gand wagoneer                   1\n",
       "Name: count, Length: 23539, dtype: int64"
      ]
     },
     "execution_count": 28,
     "metadata": {},
     "output_type": "execute_result"
    }
   ],
   "source": [
    "model_values = df['model'].value_counts()\n",
    "model_values"
   ]
  },
  {
   "cell_type": "code",
   "execution_count": 29,
   "id": "d7708f79",
   "metadata": {
    "execution": {
     "iopub.execute_input": "2024-11-19T17:02:10.150381Z",
     "iopub.status.busy": "2024-11-19T17:02:10.149735Z",
     "iopub.status.idle": "2024-11-19T17:02:20.308609Z",
     "shell.execute_reply": "2024-11-19T17:02:20.307828Z"
    },
    "papermill": {
     "duration": 10.17651,
     "end_time": "2024-11-19T17:02:20.310684",
     "exception": false,
     "start_time": "2024-11-19T17:02:10.134174",
     "status": "completed"
    },
    "tags": []
   },
   "outputs": [],
   "source": [
    "df['model'] = df['model'].apply(lambda x: x if str(x) in model_values[:50] else 'others')"
   ]
  },
  {
   "cell_type": "code",
   "execution_count": 30,
   "id": "c14d591c",
   "metadata": {
    "execution": {
     "iopub.execute_input": "2024-11-19T17:02:20.342207Z",
     "iopub.status.busy": "2024-11-19T17:02:20.341690Z",
     "iopub.status.idle": "2024-11-19T17:02:20.576016Z",
     "shell.execute_reply": "2024-11-19T17:02:20.575256Z"
    },
    "papermill": {
     "duration": 0.251172,
     "end_time": "2024-11-19T17:02:20.577608",
     "exception": false,
     "start_time": "2024-11-19T17:02:20.326436",
     "status": "completed"
    },
    "tags": []
   },
   "outputs": [
    {
     "name": "stdout",
     "output_type": "stream",
     "text": [
      "price 15274\n",
      "year 107\n",
      "manufacturer 21\n",
      "model 51\n",
      "condition 7\n",
      "cylinders 9\n",
      "fuel 6\n",
      "odometer 101980\n",
      "title_status 7\n",
      "transmission 4\n",
      "drive 4\n",
      "type 14\n",
      "paint_color 13\n"
     ]
    }
   ],
   "source": [
    "for i in df.columns:\n",
    "  print(i, len(df[i].value_counts().index))"
   ]
  },
  {
   "cell_type": "code",
   "execution_count": 31,
   "id": "6a4f6a41",
   "metadata": {
    "execution": {
     "iopub.execute_input": "2024-11-19T17:02:20.607906Z",
     "iopub.status.busy": "2024-11-19T17:02:20.607664Z",
     "iopub.status.idle": "2024-11-19T17:02:21.004902Z",
     "shell.execute_reply": "2024-11-19T17:02:21.003804Z"
    },
    "papermill": {
     "duration": 0.414284,
     "end_time": "2024-11-19T17:02:21.006678",
     "exception": false,
     "start_time": "2024-11-19T17:02:20.592394",
     "status": "completed"
    },
    "tags": []
   },
   "outputs": [
    {
     "name": "stdout",
     "output_type": "stream",
     "text": [
      "<class 'pandas.core.frame.DataFrame'>\n",
      "Index: 346840 entries, 0 to 0\n",
      "Data columns (total 13 columns):\n",
      " #   Column        Non-Null Count   Dtype  \n",
      "---  ------        --------------   -----  \n",
      " 0   price         346840 non-null  int64  \n",
      " 1   year          346840 non-null  float64\n",
      " 2   manufacturer  346840 non-null  object \n",
      " 3   model         346840 non-null  object \n",
      " 4   condition     346840 non-null  object \n",
      " 5   cylinders     346840 non-null  object \n",
      " 6   fuel          346840 non-null  object \n",
      " 7   odometer      346840 non-null  float64\n",
      " 8   title_status  346840 non-null  object \n",
      " 9   transmission  346840 non-null  object \n",
      " 10  drive         346840 non-null  object \n",
      " 11  type          346840 non-null  object \n",
      " 12  paint_color   346840 non-null  object \n",
      "dtypes: float64(2), int64(1), object(10)\n",
      "memory usage: 37.0+ MB\n"
     ]
    }
   ],
   "source": [
    "df.info()"
   ]
  },
  {
   "cell_type": "markdown",
   "id": "754c8611",
   "metadata": {
    "papermill": {
     "duration": 0.014639,
     "end_time": "2024-11-19T17:02:21.036457",
     "exception": false,
     "start_time": "2024-11-19T17:02:21.021818",
     "status": "completed"
    },
    "tags": []
   },
   "source": [
    "### **Numerical Data Cleaning**\n",
    "---"
   ]
  },
  {
   "cell_type": "code",
   "execution_count": 32,
   "id": "74bc13b9",
   "metadata": {
    "execution": {
     "iopub.execute_input": "2024-11-19T17:02:21.067653Z",
     "iopub.status.busy": "2024-11-19T17:02:21.066898Z",
     "iopub.status.idle": "2024-11-19T17:02:21.116309Z",
     "shell.execute_reply": "2024-11-19T17:02:21.115408Z"
    },
    "papermill": {
     "duration": 0.067027,
     "end_time": "2024-11-19T17:02:21.118028",
     "exception": false,
     "start_time": "2024-11-19T17:02:21.051001",
     "status": "completed"
    },
    "tags": []
   },
   "outputs": [
    {
     "data": {
      "text/html": [
       "<div>\n",
       "<style scoped>\n",
       "    .dataframe tbody tr th:only-of-type {\n",
       "        vertical-align: middle;\n",
       "    }\n",
       "\n",
       "    .dataframe tbody tr th {\n",
       "        vertical-align: top;\n",
       "    }\n",
       "\n",
       "    .dataframe thead th {\n",
       "        text-align: right;\n",
       "    }\n",
       "</style>\n",
       "<table border=\"1\" class=\"dataframe\">\n",
       "  <thead>\n",
       "    <tr style=\"text-align: right;\">\n",
       "      <th></th>\n",
       "      <th>price</th>\n",
       "      <th>year</th>\n",
       "      <th>odometer</th>\n",
       "    </tr>\n",
       "  </thead>\n",
       "  <tbody>\n",
       "    <tr>\n",
       "      <th>count</th>\n",
       "      <td>3.468400e+05</td>\n",
       "      <td>346840.000000</td>\n",
       "      <td>3.468400e+05</td>\n",
       "    </tr>\n",
       "    <tr>\n",
       "      <th>mean</th>\n",
       "      <td>6.997499e+04</td>\n",
       "      <td>2011.526814</td>\n",
       "      <td>9.501220e+04</td>\n",
       "    </tr>\n",
       "    <tr>\n",
       "      <th>std</th>\n",
       "      <td>1.213391e+07</td>\n",
       "      <td>8.876408</td>\n",
       "      <td>1.848760e+05</td>\n",
       "    </tr>\n",
       "    <tr>\n",
       "      <th>min</th>\n",
       "      <td>0.000000e+00</td>\n",
       "      <td>1900.000000</td>\n",
       "      <td>0.000000e+00</td>\n",
       "    </tr>\n",
       "    <tr>\n",
       "      <th>25%</th>\n",
       "      <td>6.000000e+03</td>\n",
       "      <td>2008.000000</td>\n",
       "      <td>3.600000e+04</td>\n",
       "    </tr>\n",
       "    <tr>\n",
       "      <th>50%</th>\n",
       "      <td>1.458800e+04</td>\n",
       "      <td>2014.000000</td>\n",
       "      <td>8.358900e+04</td>\n",
       "    </tr>\n",
       "    <tr>\n",
       "      <th>75%</th>\n",
       "      <td>2.699000e+04</td>\n",
       "      <td>2017.000000</td>\n",
       "      <td>1.330000e+05</td>\n",
       "    </tr>\n",
       "    <tr>\n",
       "      <th>max</th>\n",
       "      <td>3.736929e+09</td>\n",
       "      <td>2022.000000</td>\n",
       "      <td>1.000000e+07</td>\n",
       "    </tr>\n",
       "  </tbody>\n",
       "</table>\n",
       "</div>"
      ],
      "text/plain": [
       "              price           year      odometer\n",
       "count  3.468400e+05  346840.000000  3.468400e+05\n",
       "mean   6.997499e+04    2011.526814  9.501220e+04\n",
       "std    1.213391e+07       8.876408  1.848760e+05\n",
       "min    0.000000e+00    1900.000000  0.000000e+00\n",
       "25%    6.000000e+03    2008.000000  3.600000e+04\n",
       "50%    1.458800e+04    2014.000000  8.358900e+04\n",
       "75%    2.699000e+04    2017.000000  1.330000e+05\n",
       "max    3.736929e+09    2022.000000  1.000000e+07"
      ]
     },
     "execution_count": 32,
     "metadata": {},
     "output_type": "execute_result"
    }
   ],
   "source": [
    "df.describe()"
   ]
  },
  {
   "cell_type": "markdown",
   "id": "019a6670",
   "metadata": {
    "papermill": {
     "duration": 0.014676,
     "end_time": "2024-11-19T17:02:21.147696",
     "exception": false,
     "start_time": "2024-11-19T17:02:21.133020",
     "status": "completed"
    },
    "tags": []
   },
   "source": [
    "**Our dataset have lots of outliers. Outliers reduces the accuracy of a model. We have to detect outliers and remove them.**"
   ]
  },
  {
   "cell_type": "code",
   "execution_count": 33,
   "id": "46a04089",
   "metadata": {
    "execution": {
     "iopub.execute_input": "2024-11-19T17:02:21.177880Z",
     "iopub.status.busy": "2024-11-19T17:02:21.177416Z",
     "iopub.status.idle": "2024-11-19T17:02:21.531477Z",
     "shell.execute_reply": "2024-11-19T17:02:21.530719Z"
    },
    "papermill": {
     "duration": 0.371126,
     "end_time": "2024-11-19T17:02:21.533206",
     "exception": false,
     "start_time": "2024-11-19T17:02:21.162080",
     "status": "completed"
    },
    "tags": []
   },
   "outputs": [
    {
     "data": {
      "image/png": "[encoded data removed]",
      "text/plain": [
       "<Figure size 640x480 with 1 Axes>"
      ]
     },
     "metadata": {},
     "output_type": "display_data"
    }
   ],
   "source": [
    "import seaborn as sns\n",
    "import matplotlib.pyplot as plt\n",
    "\n",
    "sns.boxplot(data=df, x='price')\n",
    "plt.xscale('log')\n",
    "plt.show()\n"
   ]
  },
  {
   "cell_type": "code",
   "execution_count": 34,
   "id": "355e52ca",
   "metadata": {
    "execution": {
     "iopub.execute_input": "2024-11-19T17:02:21.564528Z",
     "iopub.status.busy": "2024-11-19T17:02:21.564258Z",
     "iopub.status.idle": "2024-11-19T17:02:21.578887Z",
     "shell.execute_reply": "2024-11-19T17:02:21.578034Z"
    },
    "papermill": {
     "duration": 0.0319,
     "end_time": "2024-11-19T17:02:21.580512",
     "exception": false,
     "start_time": "2024-11-19T17:02:21.548612",
     "status": "completed"
    },
    "tags": []
   },
   "outputs": [],
   "source": [
    "price_percentile25 = df['price'].quantile(0.25)\n",
    "price_percentile75 = df['price'].quantile(0.75)\n",
    "price_iqr = price_percentile75 - price_percentile25"
   ]
  },
  {
   "cell_type": "code",
   "execution_count": 35,
   "id": "840a2790",
   "metadata": {
    "execution": {
     "iopub.execute_input": "2024-11-19T17:02:21.611397Z",
     "iopub.status.busy": "2024-11-19T17:02:21.610939Z",
     "iopub.status.idle": "2024-11-19T17:02:21.620532Z",
     "shell.execute_reply": "2024-11-19T17:02:21.619785Z"
    },
    "papermill": {
     "duration": 0.026677,
     "end_time": "2024-11-19T17:02:21.622080",
     "exception": false,
     "start_time": "2024-11-19T17:02:21.595403",
     "status": "completed"
    },
    "tags": []
   },
   "outputs": [],
   "source": [
    "price_upper_limit = price_percentile75 + 1.5 * price_iqr\n",
    "price_lower_limit = df['price'].quantile(0.15)"
   ]
  },
  {
   "cell_type": "code",
   "execution_count": 36,
   "id": "abd1f305",
   "metadata": {
    "execution": {
     "iopub.execute_input": "2024-11-19T17:02:21.653025Z",
     "iopub.status.busy": "2024-11-19T17:02:21.652536Z",
     "iopub.status.idle": "2024-11-19T17:02:21.711242Z",
     "shell.execute_reply": "2024-11-19T17:02:21.710409Z"
    },
    "papermill": {
     "duration": 0.076228,
     "end_time": "2024-11-19T17:02:21.713094",
     "exception": false,
     "start_time": "2024-11-19T17:02:21.636866",
     "status": "completed"
    },
    "tags": []
   },
   "outputs": [
    {
     "data": {
      "text/plain": [
       "288669"
      ]
     },
     "execution_count": 36,
     "metadata": {},
     "output_type": "execute_result"
    }
   ],
   "source": [
    "len(df[(df['price'] < price_upper_limit) & (df['price'] > price_lower_limit)])"
   ]
  },
  {
   "cell_type": "code",
   "execution_count": 37,
   "id": "29a92d88",
   "metadata": {
    "execution": {
     "iopub.execute_input": "2024-11-19T17:02:21.745742Z",
     "iopub.status.busy": "2024-11-19T17:02:21.745117Z",
     "iopub.status.idle": "2024-11-19T17:02:21.750126Z",
     "shell.execute_reply": "2024-11-19T17:02:21.749376Z"
    },
    "papermill": {
     "duration": 0.022742,
     "end_time": "2024-11-19T17:02:21.751734",
     "exception": false,
     "start_time": "2024-11-19T17:02:21.728992",
     "status": "completed"
    },
    "tags": []
   },
   "outputs": [
    {
     "data": {
      "text/plain": [
       "346840"
      ]
     },
     "execution_count": 37,
     "metadata": {},
     "output_type": "execute_result"
    }
   ],
   "source": [
    "len(df)"
   ]
  },
  {
   "cell_type": "code",
   "execution_count": 38,
   "id": "f7aee745",
   "metadata": {
    "execution": {
     "iopub.execute_input": "2024-11-19T17:02:21.783545Z",
     "iopub.status.busy": "2024-11-19T17:02:21.783041Z",
     "iopub.status.idle": "2024-11-19T17:02:21.812370Z",
     "shell.execute_reply": "2024-11-19T17:02:21.811377Z"
    },
    "papermill": {
     "duration": 0.047089,
     "end_time": "2024-11-19T17:02:21.814228",
     "exception": false,
     "start_time": "2024-11-19T17:02:21.767139",
     "status": "completed"
    },
    "tags": []
   },
   "outputs": [
    {
     "name": "stdout",
     "output_type": "stream",
     "text": [
      "total outliers -  58171\n"
     ]
    }
   ],
   "source": [
    "print(\"total outliers - \",len(df)-len(df[(df['price'] < price_upper_limit) & (df['price'] > price_lower_limit)]))"
   ]
  },
  {
   "cell_type": "code",
   "execution_count": 39,
   "id": "7df19d26",
   "metadata": {
    "execution": {
     "iopub.execute_input": "2024-11-19T17:02:21.846381Z",
     "iopub.status.busy": "2024-11-19T17:02:21.845882Z",
     "iopub.status.idle": "2024-11-19T17:02:21.870930Z",
     "shell.execute_reply": "2024-11-19T17:02:21.870045Z"
    },
    "papermill": {
     "duration": 0.043017,
     "end_time": "2024-11-19T17:02:21.872950",
     "exception": false,
     "start_time": "2024-11-19T17:02:21.829933",
     "status": "completed"
    },
    "tags": []
   },
   "outputs": [],
   "source": [
    "new_df = df[(df['price'] < price_upper_limit) & (df['price'] > price_lower_limit)]"
   ]
  },
  {
   "cell_type": "code",
   "execution_count": 40,
   "id": "01eef5f0",
   "metadata": {
    "execution": {
     "iopub.execute_input": "2024-11-19T17:02:21.905990Z",
     "iopub.status.busy": "2024-11-19T17:02:21.905182Z",
     "iopub.status.idle": "2024-11-19T17:02:21.927160Z",
     "shell.execute_reply": "2024-11-19T17:02:21.926456Z"
    },
    "papermill": {
     "duration": 0.040044,
     "end_time": "2024-11-19T17:02:21.929009",
     "exception": false,
     "start_time": "2024-11-19T17:02:21.888965",
     "status": "completed"
    },
    "tags": []
   },
   "outputs": [],
   "source": [
    "odometer_percentile75 = df['odometer'].quantile(0.75)\n",
    "odometer_percentile25 = df['odometer'].quantile(0.25)\n",
    "odometer_iqr = odometer_percentile75 - odometer_percentile25\n",
    "odometer_upper_limit = odometer_percentile75 + 1.5 * odometer_iqr\n",
    "odometer_lower_limit = df['odometer'].quantile(0.05)"
   ]
  },
  {
   "cell_type": "code",
   "execution_count": 41,
   "id": "f90d18a5",
   "metadata": {
    "execution": {
     "iopub.execute_input": "2024-11-19T17:02:21.961658Z",
     "iopub.status.busy": "2024-11-19T17:02:21.961236Z",
     "iopub.status.idle": "2024-11-19T17:02:21.989425Z",
     "shell.execute_reply": "2024-11-19T17:02:21.988546Z"
    },
    "papermill": {
     "duration": 0.046058,
     "end_time": "2024-11-19T17:02:21.991467",
     "exception": false,
     "start_time": "2024-11-19T17:02:21.945409",
     "status": "completed"
    },
    "tags": []
   },
   "outputs": [],
   "source": [
    "new_df = new_df[(new_df['odometer'] < odometer_upper_limit) & (new_df['odometer'] > odometer_lower_limit)]"
   ]
  },
  {
   "cell_type": "code",
   "execution_count": 42,
   "id": "dc80daf6",
   "metadata": {
    "execution": {
     "iopub.execute_input": "2024-11-19T17:02:22.024642Z",
     "iopub.status.busy": "2024-11-19T17:02:22.024023Z",
     "iopub.status.idle": "2024-11-19T17:02:22.089213Z",
     "shell.execute_reply": "2024-11-19T17:02:22.088521Z"
    },
    "papermill": {
     "duration": 0.083511,
     "end_time": "2024-11-19T17:02:22.091138",
     "exception": false,
     "start_time": "2024-11-19T17:02:22.007627",
     "status": "completed"
    },
    "tags": []
   },
   "outputs": [],
   "source": [
    "new_df.index = [0] * len(new_df)"
   ]
  },
  {
   "cell_type": "code",
   "execution_count": 43,
   "id": "9ea1c163",
   "metadata": {
    "execution": {
     "iopub.execute_input": "2024-11-19T17:02:22.128526Z",
     "iopub.status.busy": "2024-11-19T17:02:22.128215Z",
     "iopub.status.idle": "2024-11-19T17:02:22.133410Z",
     "shell.execute_reply": "2024-11-19T17:02:22.132684Z"
    },
    "papermill": {
     "duration": 0.025892,
     "end_time": "2024-11-19T17:02:22.135130",
     "exception": false,
     "start_time": "2024-11-19T17:02:22.109238",
     "status": "completed"
    },
    "tags": []
   },
   "outputs": [
    {
     "data": {
      "text/plain": [
       "(273590, 13)"
      ]
     },
     "execution_count": 43,
     "metadata": {},
     "output_type": "execute_result"
    }
   ],
   "source": [
    "new_df.shape"
   ]
  },
  {
   "cell_type": "code",
   "execution_count": 44,
   "id": "445008bc",
   "metadata": {
    "execution": {
     "iopub.execute_input": "2024-11-19T17:02:22.166773Z",
     "iopub.status.busy": "2024-11-19T17:02:22.166480Z",
     "iopub.status.idle": "2024-11-19T17:02:22.480950Z",
     "shell.execute_reply": "2024-11-19T17:02:22.479988Z"
    },
    "papermill": {
     "duration": 0.332073,
     "end_time": "2024-11-19T17:02:22.482643",
     "exception": false,
     "start_time": "2024-11-19T17:02:22.150570",
     "status": "completed"
    },
    "tags": []
   },
   "outputs": [
    {
     "name": "stdout",
     "output_type": "stream",
     "text": [
      "<class 'pandas.core.frame.DataFrame'>\n",
      "Index: 273590 entries, 0 to 0\n",
      "Data columns (total 13 columns):\n",
      " #   Column        Non-Null Count   Dtype  \n",
      "---  ------        --------------   -----  \n",
      " 0   price         273590 non-null  int64  \n",
      " 1   year          273590 non-null  float64\n",
      " 2   manufacturer  273590 non-null  object \n",
      " 3   model         273590 non-null  object \n",
      " 4   condition     273590 non-null  object \n",
      " 5   cylinders     273590 non-null  object \n",
      " 6   fuel          273590 non-null  object \n",
      " 7   odometer      273590 non-null  float64\n",
      " 8   title_status  273590 non-null  object \n",
      " 9   transmission  273590 non-null  object \n",
      " 10  drive         273590 non-null  object \n",
      " 11  type          273590 non-null  object \n",
      " 12  paint_color   273590 non-null  object \n",
      "dtypes: float64(2), int64(1), object(10)\n",
      "memory usage: 29.2+ MB\n"
     ]
    }
   ],
   "source": [
    "new_df.info()"
   ]
  },
  {
   "cell_type": "markdown",
   "id": "95db9da0",
   "metadata": {
    "papermill": {
     "duration": 0.01554,
     "end_time": "2024-11-19T17:02:22.513986",
     "exception": false,
     "start_time": "2024-11-19T17:02:22.498446",
     "status": "completed"
    },
    "tags": []
   },
   "source": [
    "## **Feature Engineering**\n",
    "---\n",
    "---"
   ]
  },
  {
   "cell_type": "code",
   "execution_count": 45,
   "id": "04aba168",
   "metadata": {
    "execution": {
     "iopub.execute_input": "2024-11-19T17:02:22.545758Z",
     "iopub.status.busy": "2024-11-19T17:02:22.545471Z",
     "iopub.status.idle": "2024-11-19T17:02:22.563962Z",
     "shell.execute_reply": "2024-11-19T17:02:22.563034Z"
    },
    "papermill": {
     "duration": 0.036279,
     "end_time": "2024-11-19T17:02:22.565619",
     "exception": false,
     "start_time": "2024-11-19T17:02:22.529340",
     "status": "completed"
    },
    "tags": []
   },
   "outputs": [
    {
     "data": {
      "text/html": [
       "<div>\n",
       "<style scoped>\n",
       "    .dataframe tbody tr th:only-of-type {\n",
       "        vertical-align: middle;\n",
       "    }\n",
       "\n",
       "    .dataframe tbody tr th {\n",
       "        vertical-align: top;\n",
       "    }\n",
       "\n",
       "    .dataframe thead th {\n",
       "        text-align: right;\n",
       "    }\n",
       "</style>\n",
       "<table border=\"1\" class=\"dataframe\">\n",
       "  <thead>\n",
       "    <tr style=\"text-align: right;\">\n",
       "      <th></th>\n",
       "      <th>price</th>\n",
       "      <th>year</th>\n",
       "      <th>manufacturer</th>\n",
       "      <th>model</th>\n",
       "      <th>condition</th>\n",
       "      <th>cylinders</th>\n",
       "      <th>fuel</th>\n",
       "      <th>odometer</th>\n",
       "      <th>title_status</th>\n",
       "      <th>transmission</th>\n",
       "      <th>drive</th>\n",
       "      <th>type</th>\n",
       "      <th>paint_color</th>\n",
       "    </tr>\n",
       "  </thead>\n",
       "  <tbody>\n",
       "    <tr>\n",
       "      <th>0</th>\n",
       "      <td>16990</td>\n",
       "      <td>2014.0</td>\n",
       "      <td>subaru</td>\n",
       "      <td>others</td>\n",
       "      <td>good</td>\n",
       "      <td>unknown</td>\n",
       "      <td>gas</td>\n",
       "      <td>73813.0</td>\n",
       "      <td>clean</td>\n",
       "      <td>automatic</td>\n",
       "      <td>unknown</td>\n",
       "      <td>hatchback</td>\n",
       "      <td>orange</td>\n",
       "    </tr>\n",
       "    <tr>\n",
       "      <th>0</th>\n",
       "      <td>10990</td>\n",
       "      <td>2014.0</td>\n",
       "      <td>nissan</td>\n",
       "      <td>others</td>\n",
       "      <td>excellent</td>\n",
       "      <td>6 cylinders</td>\n",
       "      <td>gas</td>\n",
       "      <td>102000.0</td>\n",
       "      <td>clean</td>\n",
       "      <td>automatic</td>\n",
       "      <td>fwd</td>\n",
       "      <td>sedan</td>\n",
       "      <td>red</td>\n",
       "    </tr>\n",
       "    <tr>\n",
       "      <th>0</th>\n",
       "      <td>13995</td>\n",
       "      <td>2013.0</td>\n",
       "      <td>chevrolet</td>\n",
       "      <td>equinox</td>\n",
       "      <td>excellent</td>\n",
       "      <td>6 cylinders</td>\n",
       "      <td>gas</td>\n",
       "      <td>79825.0</td>\n",
       "      <td>clean</td>\n",
       "      <td>automatic</td>\n",
       "      <td>4wd</td>\n",
       "      <td>unknown</td>\n",
       "      <td>black</td>\n",
       "    </tr>\n",
       "    <tr>\n",
       "      <th>0</th>\n",
       "      <td>9975</td>\n",
       "      <td>2007.0</td>\n",
       "      <td>gmc</td>\n",
       "      <td>others</td>\n",
       "      <td>excellent</td>\n",
       "      <td>8 cylinders</td>\n",
       "      <td>gas</td>\n",
       "      <td>143098.0</td>\n",
       "      <td>clean</td>\n",
       "      <td>automatic</td>\n",
       "      <td>4wd</td>\n",
       "      <td>SUV</td>\n",
       "      <td>black</td>\n",
       "    </tr>\n",
       "    <tr>\n",
       "      <th>0</th>\n",
       "      <td>36990</td>\n",
       "      <td>2016.0</td>\n",
       "      <td>gmc</td>\n",
       "      <td>others</td>\n",
       "      <td>good</td>\n",
       "      <td>8 cylinders</td>\n",
       "      <td>gas</td>\n",
       "      <td>23190.0</td>\n",
       "      <td>clean</td>\n",
       "      <td>other</td>\n",
       "      <td>4wd</td>\n",
       "      <td>pickup</td>\n",
       "      <td>black</td>\n",
       "    </tr>\n",
       "  </tbody>\n",
       "</table>\n",
       "</div>"
      ],
      "text/plain": [
       "   price    year manufacturer    model  condition    cylinders fuel  odometer  \\\n",
       "0  16990  2014.0       subaru   others       good      unknown  gas   73813.0   \n",
       "0  10990  2014.0       nissan   others  excellent  6 cylinders  gas  102000.0   \n",
       "0  13995  2013.0    chevrolet  equinox  excellent  6 cylinders  gas   79825.0   \n",
       "0   9975  2007.0          gmc   others  excellent  8 cylinders  gas  143098.0   \n",
       "0  36990  2016.0          gmc   others       good  8 cylinders  gas   23190.0   \n",
       "\n",
       "  title_status transmission    drive       type paint_color  \n",
       "0        clean    automatic  unknown  hatchback      orange  \n",
       "0        clean    automatic      fwd      sedan         red  \n",
       "0        clean    automatic      4wd    unknown       black  \n",
       "0        clean    automatic      4wd        SUV       black  \n",
       "0        clean        other      4wd     pickup       black  "
      ]
     },
     "execution_count": 45,
     "metadata": {},
     "output_type": "execute_result"
    }
   ],
   "source": [
    "new_df.sample(5)"
   ]
  },
  {
   "cell_type": "code",
   "execution_count": 46,
   "id": "1a31a87e",
   "metadata": {
    "execution": {
     "iopub.execute_input": "2024-11-19T17:02:22.597844Z",
     "iopub.status.busy": "2024-11-19T17:02:22.597612Z",
     "iopub.status.idle": "2024-11-19T17:02:22.602653Z",
     "shell.execute_reply": "2024-11-19T17:02:22.602016Z"
    },
    "papermill": {
     "duration": 0.022934,
     "end_time": "2024-11-19T17:02:22.604190",
     "exception": false,
     "start_time": "2024-11-19T17:02:22.581256",
     "status": "completed"
    },
    "tags": []
   },
   "outputs": [],
   "source": [
    "new_df['odometer'] = new_df['odometer'].astype(int)"
   ]
  },
  {
   "cell_type": "code",
   "execution_count": 47,
   "id": "4472d93d",
   "metadata": {
    "execution": {
     "iopub.execute_input": "2024-11-19T17:02:22.637660Z",
     "iopub.status.busy": "2024-11-19T17:02:22.637400Z",
     "iopub.status.idle": "2024-11-19T17:02:22.654346Z",
     "shell.execute_reply": "2024-11-19T17:02:22.653700Z"
    },
    "papermill": {
     "duration": 0.036073,
     "end_time": "2024-11-19T17:02:22.655931",
     "exception": false,
     "start_time": "2024-11-19T17:02:22.619858",
     "status": "completed"
    },
    "tags": []
   },
   "outputs": [
    {
     "data": {
      "text/html": [
       "<div>\n",
       "<style scoped>\n",
       "    .dataframe tbody tr th:only-of-type {\n",
       "        vertical-align: middle;\n",
       "    }\n",
       "\n",
       "    .dataframe tbody tr th {\n",
       "        vertical-align: top;\n",
       "    }\n",
       "\n",
       "    .dataframe thead th {\n",
       "        text-align: right;\n",
       "    }\n",
       "</style>\n",
       "<table border=\"1\" class=\"dataframe\">\n",
       "  <thead>\n",
       "    <tr style=\"text-align: right;\">\n",
       "      <th></th>\n",
       "      <th>price</th>\n",
       "      <th>year</th>\n",
       "      <th>manufacturer</th>\n",
       "      <th>model</th>\n",
       "      <th>condition</th>\n",
       "      <th>cylinders</th>\n",
       "      <th>fuel</th>\n",
       "      <th>odometer</th>\n",
       "      <th>title_status</th>\n",
       "      <th>transmission</th>\n",
       "      <th>drive</th>\n",
       "      <th>type</th>\n",
       "      <th>paint_color</th>\n",
       "    </tr>\n",
       "  </thead>\n",
       "  <tbody>\n",
       "    <tr>\n",
       "      <th>0</th>\n",
       "      <td>12990</td>\n",
       "      <td>2013.0</td>\n",
       "      <td>bmw</td>\n",
       "      <td>others</td>\n",
       "      <td>excellent</td>\n",
       "      <td>unknown</td>\n",
       "      <td>gas</td>\n",
       "      <td>112000</td>\n",
       "      <td>clean</td>\n",
       "      <td>manual</td>\n",
       "      <td>unknown</td>\n",
       "      <td>unknown</td>\n",
       "      <td>unknown</td>\n",
       "    </tr>\n",
       "    <tr>\n",
       "      <th>0</th>\n",
       "      <td>8999</td>\n",
       "      <td>2016.0</td>\n",
       "      <td>chevrolet</td>\n",
       "      <td>cruze</td>\n",
       "      <td>excellent</td>\n",
       "      <td>4 cylinders</td>\n",
       "      <td>gas</td>\n",
       "      <td>78000</td>\n",
       "      <td>rebuilt</td>\n",
       "      <td>automatic</td>\n",
       "      <td>fwd</td>\n",
       "      <td>sedan</td>\n",
       "      <td>unknown</td>\n",
       "    </tr>\n",
       "    <tr>\n",
       "      <th>0</th>\n",
       "      <td>9500</td>\n",
       "      <td>2013.0</td>\n",
       "      <td>chevrolet</td>\n",
       "      <td>others</td>\n",
       "      <td>unknown</td>\n",
       "      <td>unknown</td>\n",
       "      <td>gas</td>\n",
       "      <td>142700</td>\n",
       "      <td>clean</td>\n",
       "      <td>automatic</td>\n",
       "      <td>fwd</td>\n",
       "      <td>SUV</td>\n",
       "      <td>black</td>\n",
       "    </tr>\n",
       "    <tr>\n",
       "      <th>0</th>\n",
       "      <td>19977</td>\n",
       "      <td>2011.0</td>\n",
       "      <td>jeep</td>\n",
       "      <td>others</td>\n",
       "      <td>like new</td>\n",
       "      <td>6 cylinders</td>\n",
       "      <td>gas</td>\n",
       "      <td>84000</td>\n",
       "      <td>clean</td>\n",
       "      <td>automatic</td>\n",
       "      <td>4wd</td>\n",
       "      <td>SUV</td>\n",
       "      <td>yellow</td>\n",
       "    </tr>\n",
       "    <tr>\n",
       "      <th>0</th>\n",
       "      <td>11795</td>\n",
       "      <td>2002.0</td>\n",
       "      <td>chevrolet</td>\n",
       "      <td>others</td>\n",
       "      <td>unknown</td>\n",
       "      <td>unknown</td>\n",
       "      <td>gas</td>\n",
       "      <td>94357</td>\n",
       "      <td>clean</td>\n",
       "      <td>automatic</td>\n",
       "      <td>unknown</td>\n",
       "      <td>unknown</td>\n",
       "      <td>unknown</td>\n",
       "    </tr>\n",
       "  </tbody>\n",
       "</table>\n",
       "</div>"
      ],
      "text/plain": [
       "   price    year manufacturer   model  condition    cylinders fuel  odometer  \\\n",
       "0  12990  2013.0          bmw  others  excellent      unknown  gas    112000   \n",
       "0   8999  2016.0    chevrolet   cruze  excellent  4 cylinders  gas     78000   \n",
       "0   9500  2013.0    chevrolet  others    unknown      unknown  gas    142700   \n",
       "0  19977  2011.0         jeep  others   like new  6 cylinders  gas     84000   \n",
       "0  11795  2002.0    chevrolet  others    unknown      unknown  gas     94357   \n",
       "\n",
       "  title_status transmission    drive     type paint_color  \n",
       "0        clean       manual  unknown  unknown     unknown  \n",
       "0      rebuilt    automatic      fwd    sedan     unknown  \n",
       "0        clean    automatic      fwd      SUV       black  \n",
       "0        clean    automatic      4wd      SUV      yellow  \n",
       "0        clean    automatic  unknown  unknown     unknown  "
      ]
     },
     "execution_count": 47,
     "metadata": {},
     "output_type": "execute_result"
    }
   ],
   "source": [
    "new_df.sample(5)"
   ]
  },
  {
   "cell_type": "code",
   "execution_count": 48,
   "id": "8ec0b0a0",
   "metadata": {
    "execution": {
     "iopub.execute_input": "2024-11-19T17:02:22.688955Z",
     "iopub.status.busy": "2024-11-19T17:02:22.688727Z",
     "iopub.status.idle": "2024-11-19T17:02:22.693410Z",
     "shell.execute_reply": "2024-11-19T17:02:22.692774Z"
    },
    "papermill": {
     "duration": 0.023197,
     "end_time": "2024-11-19T17:02:22.695057",
     "exception": false,
     "start_time": "2024-11-19T17:02:22.671860",
     "status": "completed"
    },
    "tags": []
   },
   "outputs": [],
   "source": [
    "new_df['year'] = new_df['year'].astype(int)"
   ]
  },
  {
   "cell_type": "code",
   "execution_count": 49,
   "id": "6723e563",
   "metadata": {
    "execution": {
     "iopub.execute_input": "2024-11-19T17:02:22.727966Z",
     "iopub.status.busy": "2024-11-19T17:02:22.727767Z",
     "iopub.status.idle": "2024-11-19T17:02:22.743179Z",
     "shell.execute_reply": "2024-11-19T17:02:22.742403Z"
    },
    "papermill": {
     "duration": 0.033914,
     "end_time": "2024-11-19T17:02:22.744935",
     "exception": false,
     "start_time": "2024-11-19T17:02:22.711021",
     "status": "completed"
    },
    "tags": []
   },
   "outputs": [
    {
     "data": {
      "text/html": [
       "<div>\n",
       "<style scoped>\n",
       "    .dataframe tbody tr th:only-of-type {\n",
       "        vertical-align: middle;\n",
       "    }\n",
       "\n",
       "    .dataframe tbody tr th {\n",
       "        vertical-align: top;\n",
       "    }\n",
       "\n",
       "    .dataframe thead th {\n",
       "        text-align: right;\n",
       "    }\n",
       "</style>\n",
       "<table border=\"1\" class=\"dataframe\">\n",
       "  <thead>\n",
       "    <tr style=\"text-align: right;\">\n",
       "      <th></th>\n",
       "      <th>price</th>\n",
       "      <th>year</th>\n",
       "      <th>manufacturer</th>\n",
       "      <th>model</th>\n",
       "      <th>condition</th>\n",
       "      <th>cylinders</th>\n",
       "      <th>fuel</th>\n",
       "      <th>odometer</th>\n",
       "      <th>title_status</th>\n",
       "      <th>transmission</th>\n",
       "      <th>drive</th>\n",
       "      <th>type</th>\n",
       "      <th>paint_color</th>\n",
       "    </tr>\n",
       "  </thead>\n",
       "  <tbody>\n",
       "    <tr>\n",
       "      <th>0</th>\n",
       "      <td>21450</td>\n",
       "      <td>2017</td>\n",
       "      <td>honda</td>\n",
       "      <td>others</td>\n",
       "      <td>excellent</td>\n",
       "      <td>4 cylinders</td>\n",
       "      <td>gas</td>\n",
       "      <td>46000</td>\n",
       "      <td>rebuilt</td>\n",
       "      <td>automatic</td>\n",
       "      <td>fwd</td>\n",
       "      <td>hatchback</td>\n",
       "      <td>blue</td>\n",
       "    </tr>\n",
       "    <tr>\n",
       "      <th>0</th>\n",
       "      <td>14900</td>\n",
       "      <td>2013</td>\n",
       "      <td>ford</td>\n",
       "      <td>others</td>\n",
       "      <td>unknown</td>\n",
       "      <td>unknown</td>\n",
       "      <td>gas</td>\n",
       "      <td>154487</td>\n",
       "      <td>clean</td>\n",
       "      <td>automatic</td>\n",
       "      <td>4wd</td>\n",
       "      <td>unknown</td>\n",
       "      <td>white</td>\n",
       "    </tr>\n",
       "    <tr>\n",
       "      <th>0</th>\n",
       "      <td>19995</td>\n",
       "      <td>2015</td>\n",
       "      <td>subaru</td>\n",
       "      <td>others</td>\n",
       "      <td>unknown</td>\n",
       "      <td>4 cylinders</td>\n",
       "      <td>gas</td>\n",
       "      <td>34973</td>\n",
       "      <td>clean</td>\n",
       "      <td>automatic</td>\n",
       "      <td>4wd</td>\n",
       "      <td>wagon</td>\n",
       "      <td>silver</td>\n",
       "    </tr>\n",
       "    <tr>\n",
       "      <th>0</th>\n",
       "      <td>3600</td>\n",
       "      <td>2011</td>\n",
       "      <td>chevrolet</td>\n",
       "      <td>others</td>\n",
       "      <td>fair</td>\n",
       "      <td>4 cylinders</td>\n",
       "      <td>gas</td>\n",
       "      <td>65000</td>\n",
       "      <td>clean</td>\n",
       "      <td>automatic</td>\n",
       "      <td>rwd</td>\n",
       "      <td>wagon</td>\n",
       "      <td>white</td>\n",
       "    </tr>\n",
       "    <tr>\n",
       "      <th>0</th>\n",
       "      <td>41990</td>\n",
       "      <td>2012</td>\n",
       "      <td>chevrolet</td>\n",
       "      <td>others</td>\n",
       "      <td>good</td>\n",
       "      <td>unknown</td>\n",
       "      <td>other</td>\n",
       "      <td>9169</td>\n",
       "      <td>clean</td>\n",
       "      <td>automatic</td>\n",
       "      <td>rwd</td>\n",
       "      <td>coupe</td>\n",
       "      <td>red</td>\n",
       "    </tr>\n",
       "  </tbody>\n",
       "</table>\n",
       "</div>"
      ],
      "text/plain": [
       "   price  year manufacturer   model  condition    cylinders   fuel  odometer  \\\n",
       "0  21450  2017        honda  others  excellent  4 cylinders    gas     46000   \n",
       "0  14900  2013         ford  others    unknown      unknown    gas    154487   \n",
       "0  19995  2015       subaru  others    unknown  4 cylinders    gas     34973   \n",
       "0   3600  2011    chevrolet  others       fair  4 cylinders    gas     65000   \n",
       "0  41990  2012    chevrolet  others       good      unknown  other      9169   \n",
       "\n",
       "  title_status transmission drive       type paint_color  \n",
       "0      rebuilt    automatic   fwd  hatchback        blue  \n",
       "0        clean    automatic   4wd    unknown       white  \n",
       "0        clean    automatic   4wd      wagon      silver  \n",
       "0        clean    automatic   rwd      wagon       white  \n",
       "0        clean    automatic   rwd      coupe         red  "
      ]
     },
     "execution_count": 49,
     "metadata": {},
     "output_type": "execute_result"
    }
   ],
   "source": [
    "new_df.sample(5)"
   ]
  },
  {
   "cell_type": "code",
   "execution_count": 50,
   "id": "23844622",
   "metadata": {
    "execution": {
     "iopub.execute_input": "2024-11-19T17:02:22.778378Z",
     "iopub.status.busy": "2024-11-19T17:02:22.778173Z",
     "iopub.status.idle": "2024-11-19T17:07:18.101396Z",
     "shell.execute_reply": "2024-11-19T17:07:18.100540Z"
    },
    "papermill": {
     "duration": 295.358491,
     "end_time": "2024-11-19T17:07:18.120005",
     "exception": false,
     "start_time": "2024-11-19T17:02:22.761514",
     "status": "completed"
    },
    "tags": []
   },
   "outputs": [
    {
     "data": {
      "image/png": "[encoded data removed]",
      "text/plain": [
       "<Figure size 1600x900 with 1 Axes>"
      ]
     },
     "metadata": {},
     "output_type": "display_data"
    }
   ],
   "source": [
    "plt.figure(figsize =(16,9))\n",
    "plt.bar(new_df['year'], new_df['price'])\n",
    "plt.title(\"Price VS Year\", fontsize=20)\n",
    "plt.xlabel('year', fontsize=20)\n",
    "plt.ylabel('price', fontsize=20)\n",
    "plt.show()\n"
   ]
  },
  {
   "cell_type": "code",
   "execution_count": 51,
   "id": "7b98816e",
   "metadata": {
    "execution": {
     "iopub.execute_input": "2024-11-19T17:07:18.154104Z",
     "iopub.status.busy": "2024-11-19T17:07:18.153858Z",
     "iopub.status.idle": "2024-11-19T17:07:18.468475Z",
     "shell.execute_reply": "2024-11-19T17:07:18.467407Z"
    },
    "papermill": {
     "duration": 0.333903,
     "end_time": "2024-11-19T17:07:18.470292",
     "exception": false,
     "start_time": "2024-11-19T17:07:18.136389",
     "status": "completed"
    },
    "tags": []
   },
   "outputs": [
    {
     "name": "stdout",
     "output_type": "stream",
     "text": [
      "<class 'pandas.core.frame.DataFrame'>\n",
      "Index: 273590 entries, 0 to 0\n",
      "Data columns (total 13 columns):\n",
      " #   Column        Non-Null Count   Dtype \n",
      "---  ------        --------------   ----- \n",
      " 0   price         273590 non-null  int64 \n",
      " 1   year          273590 non-null  int32 \n",
      " 2   manufacturer  273590 non-null  object\n",
      " 3   model         273590 non-null  object\n",
      " 4   condition     273590 non-null  object\n",
      " 5   cylinders     273590 non-null  object\n",
      " 6   fuel          273590 non-null  object\n",
      " 7   odometer      273590 non-null  int32 \n",
      " 8   title_status  273590 non-null  object\n",
      " 9   transmission  273590 non-null  object\n",
      " 10  drive         273590 non-null  object\n",
      " 11  type          273590 non-null  object\n",
      " 12  paint_color   273590 non-null  object\n",
      "dtypes: int32(2), int64(1), object(10)\n",
      "memory usage: 27.1+ MB\n"
     ]
    }
   ],
   "source": [
    "new_df.info()"
   ]
  },
  {
   "cell_type": "code",
   "execution_count": 52,
   "id": "0266e157",
   "metadata": {
    "execution": {
     "iopub.execute_input": "2024-11-19T17:07:18.504909Z",
     "iopub.status.busy": "2024-11-19T17:07:18.504650Z",
     "iopub.status.idle": "2024-11-19T17:07:18.562312Z",
     "shell.execute_reply": "2024-11-19T17:07:18.561473Z"
    },
    "papermill": {
     "duration": 0.076791,
     "end_time": "2024-11-19T17:07:18.564107",
     "exception": false,
     "start_time": "2024-11-19T17:07:18.487316",
     "status": "completed"
    },
    "tags": []
   },
   "outputs": [
    {
     "data": {
      "text/html": [
       "<div>\n",
       "<style scoped>\n",
       "    .dataframe tbody tr th:only-of-type {\n",
       "        vertical-align: middle;\n",
       "    }\n",
       "\n",
       "    .dataframe tbody tr th {\n",
       "        vertical-align: top;\n",
       "    }\n",
       "\n",
       "    .dataframe thead th {\n",
       "        text-align: right;\n",
       "    }\n",
       "</style>\n",
       "<table border=\"1\" class=\"dataframe\">\n",
       "  <thead>\n",
       "    <tr style=\"text-align: right;\">\n",
       "      <th></th>\n",
       "      <th>price</th>\n",
       "      <th>odometer</th>\n",
       "      <th>car_age</th>\n",
       "    </tr>\n",
       "  </thead>\n",
       "  <tbody>\n",
       "    <tr>\n",
       "      <th>count</th>\n",
       "      <td>273590.000000</td>\n",
       "      <td>273590.000000</td>\n",
       "      <td>273590.000000</td>\n",
       "    </tr>\n",
       "    <tr>\n",
       "      <th>mean</th>\n",
       "      <td>19373.714204</td>\n",
       "      <td>90602.902160</td>\n",
       "      <td>10.115132</td>\n",
       "    </tr>\n",
       "    <tr>\n",
       "      <th>std</th>\n",
       "      <td>12026.592402</td>\n",
       "      <td>57099.376602</td>\n",
       "      <td>7.940248</td>\n",
       "    </tr>\n",
       "    <tr>\n",
       "      <th>min</th>\n",
       "      <td>3525.000000</td>\n",
       "      <td>6958.000000</td>\n",
       "      <td>0.000000</td>\n",
       "    </tr>\n",
       "    <tr>\n",
       "      <th>25%</th>\n",
       "      <td>8995.000000</td>\n",
       "      <td>40405.000000</td>\n",
       "      <td>5.000000</td>\n",
       "    </tr>\n",
       "    <tr>\n",
       "      <th>50%</th>\n",
       "      <td>16950.000000</td>\n",
       "      <td>85042.000000</td>\n",
       "      <td>8.000000</td>\n",
       "    </tr>\n",
       "    <tr>\n",
       "      <th>75%</th>\n",
       "      <td>27990.000000</td>\n",
       "      <td>130225.000000</td>\n",
       "      <td>13.000000</td>\n",
       "    </tr>\n",
       "    <tr>\n",
       "      <th>max</th>\n",
       "      <td>58448.000000</td>\n",
       "      <td>278495.000000</td>\n",
       "      <td>117.000000</td>\n",
       "    </tr>\n",
       "  </tbody>\n",
       "</table>\n",
       "</div>"
      ],
      "text/plain": [
       "               price       odometer        car_age\n",
       "count  273590.000000  273590.000000  273590.000000\n",
       "mean    19373.714204   90602.902160      10.115132\n",
       "std     12026.592402   57099.376602       7.940248\n",
       "min      3525.000000    6958.000000       0.000000\n",
       "25%      8995.000000   40405.000000       5.000000\n",
       "50%     16950.000000   85042.000000       8.000000\n",
       "75%     27990.000000  130225.000000      13.000000\n",
       "max     58448.000000  278495.000000     117.000000"
      ]
     },
     "execution_count": 52,
     "metadata": {},
     "output_type": "execute_result"
    }
   ],
   "source": [
    "new_df['car_age'] = 2022 - new_df['year']\n",
    "new_df.drop(['year'], axis = 1, inplace = True)\n",
    "new_df.describe()"
   ]
  },
  {
   "cell_type": "markdown",
   "id": "bf7e0ba5",
   "metadata": {
    "papermill": {
     "duration": 0.016601,
     "end_time": "2024-11-19T17:07:18.598076",
     "exception": false,
     "start_time": "2024-11-19T17:07:18.581475",
     "status": "completed"
    },
    "tags": []
   },
   "source": [
    "## **Data Visualization**\n",
    "---\n",
    "---"
   ]
  },
  {
   "cell_type": "code",
   "execution_count": 53,
   "id": "26f1607a",
   "metadata": {
    "execution": {
     "iopub.execute_input": "2024-11-19T17:07:18.632918Z",
     "iopub.status.busy": "2024-11-19T17:07:18.632637Z",
     "iopub.status.idle": "2024-11-19T17:07:18.642816Z",
     "shell.execute_reply": "2024-11-19T17:07:18.642215Z"
    },
    "papermill": {
     "duration": 0.029223,
     "end_time": "2024-11-19T17:07:18.644318",
     "exception": false,
     "start_time": "2024-11-19T17:07:18.615095",
     "status": "completed"
    },
    "tags": []
   },
   "outputs": [],
   "source": [
    "sample_data = new_df.sample(100)"
   ]
  },
  {
   "cell_type": "code",
   "execution_count": 54,
   "id": "0cd6ec6b",
   "metadata": {
    "execution": {
     "iopub.execute_input": "2024-11-19T17:07:18.679093Z",
     "iopub.status.busy": "2024-11-19T17:07:18.678839Z",
     "iopub.status.idle": "2024-11-19T17:07:18.943132Z",
     "shell.execute_reply": "2024-11-19T17:07:18.942353Z"
    },
    "papermill": {
     "duration": 0.283738,
     "end_time": "2024-11-19T17:07:18.944694",
     "exception": false,
     "start_time": "2024-11-19T17:07:18.660956",
     "status": "completed"
    },
    "tags": []
   },
   "outputs": [
    {
     "data": {
      "text/plain": [
       "<Axes: >"
      ]
     },
     "execution_count": 54,
     "metadata": {},
     "output_type": "execute_result"
    },
    {
     "data": {
      "image/png": "[encoded data removed]",
      "text/plain": [
       "<Figure size 640x480 with 2 Axes>"
      ]
     },
     "metadata": {},
     "output_type": "display_data"
    }
   ],
   "source": [
    "new_df_1 = new_df.select_dtypes(include=['float', 'int'])\n",
    "sns.heatmap(new_df_1.corr(), annot=True)"
   ]
  },
  {
   "cell_type": "code",
   "execution_count": 55,
   "id": "f524192e",
   "metadata": {
    "execution": {
     "iopub.execute_input": "2024-11-19T17:07:18.982397Z",
     "iopub.status.busy": "2024-11-19T17:07:18.982144Z",
     "iopub.status.idle": "2024-11-19T17:07:20.252217Z",
     "shell.execute_reply": "2024-11-19T17:07:20.251420Z"
    },
    "papermill": {
     "duration": 1.291399,
     "end_time": "2024-11-19T17:07:20.254025",
     "exception": false,
     "start_time": "2024-11-19T17:07:18.962626",
     "status": "completed"
    },
    "tags": []
   },
   "outputs": [
    {
     "data": {
      "image/png": "[encoded data removed]",
      "text/plain": [
       "<Figure size 500x500 with 1 Axes>"
      ]
     },
     "metadata": {},
     "output_type": "display_data"
    }
   ],
   "source": [
    "sns.displot(new_df.price)\n",
    "plt.tight_layout()\n",
    "plt.title(\"Distribution of price\")\n",
    "plt.savefig('Insight-Dist-Plot',dpi=None)\n",
    "plt.show()"
   ]
  },
  {
   "cell_type": "code",
   "execution_count": 56,
   "id": "ed9e907d",
   "metadata": {
    "execution": {
     "iopub.execute_input": "2024-11-19T17:07:20.291624Z",
     "iopub.status.busy": "2024-11-19T17:07:20.291344Z",
     "iopub.status.idle": "2024-11-19T17:07:23.628694Z",
     "shell.execute_reply": "2024-11-19T17:07:23.627789Z"
    },
    "papermill": {
     "duration": 3.357628,
     "end_time": "2024-11-19T17:07:23.630308",
     "exception": false,
     "start_time": "2024-11-19T17:07:20.272680",
     "status": "completed"
    },
    "tags": []
   },
   "outputs": [
    {
     "data": {
      "image/png": "[encoded data removed]",
      "text/plain": [
       "<Figure size 500x500 with 1 Axes>"
      ]
     },
     "metadata": {},
     "output_type": "display_data"
    }
   ],
   "source": [
    "fig,axs=plt.subplots()\n",
    "fig.set_size_inches(5,5)\n",
    "\n",
    "p1=sns.barplot(x='fuel',y='price',data=new_df,ax=axs)\n",
    "axs.set_title('Fuel vs Price')\n",
    "\n",
    "plt.savefig('Insight-Figure-1',dpi=None)\n",
    "plt.show()"
   ]
  },
  {
   "cell_type": "code",
   "execution_count": 57,
   "id": "23995223",
   "metadata": {
    "execution": {
     "iopub.execute_input": "2024-11-19T17:07:23.668589Z",
     "iopub.status.busy": "2024-11-19T17:07:23.668324Z",
     "iopub.status.idle": "2024-11-19T17:07:27.115217Z",
     "shell.execute_reply": "2024-11-19T17:07:27.114479Z"
    },
    "papermill": {
     "duration": 3.467518,
     "end_time": "2024-11-19T17:07:27.116983",
     "exception": false,
     "start_time": "2024-11-19T17:07:23.649465",
     "status": "completed"
    },
    "tags": []
   },
   "outputs": [
    {
     "data": {
      "image/png": "[encoded data removed]",
      "text/plain": [
       "<Figure size 1000x500 with 1 Axes>"
      ]
     },
     "metadata": {},
     "output_type": "display_data"
    }
   ],
   "source": [
    "plt.figure(figsize=(10,5))\n",
    "sns.barplot(x='fuel',y='price',data=new_df)\n",
    "plt.title('Fuel + Condition vs Price')\n",
    "plt.show()"
   ]
  },
  {
   "cell_type": "markdown",
   "id": "fd03bb98",
   "metadata": {
    "papermill": {
     "duration": 0.018038,
     "end_time": "2024-11-19T17:07:27.154103",
     "exception": false,
     "start_time": "2024-11-19T17:07:27.136065",
     "status": "completed"
    },
    "tags": []
   },
   "source": [
    "## **Data Preprocessing**\n",
    "---\n",
    "---"
   ]
  },
  {
   "cell_type": "code",
   "execution_count": 58,
   "id": "23b83c33",
   "metadata": {
    "execution": {
     "iopub.execute_input": "2024-11-19T17:07:27.192892Z",
     "iopub.status.busy": "2024-11-19T17:07:27.192088Z",
     "iopub.status.idle": "2024-11-19T17:07:27.197448Z",
     "shell.execute_reply": "2024-11-19T17:07:27.196691Z"
    },
    "papermill": {
     "duration": 0.026404,
     "end_time": "2024-11-19T17:07:27.199057",
     "exception": false,
     "start_time": "2024-11-19T17:07:27.172653",
     "status": "completed"
    },
    "tags": []
   },
   "outputs": [
    {
     "data": {
      "text/plain": [
       "Index(['price', 'manufacturer', 'model', 'condition', 'cylinders', 'fuel',\n",
       "       'odometer', 'title_status', 'transmission', 'drive', 'type',\n",
       "       'paint_color', 'car_age'],\n",
       "      dtype='object')"
      ]
     },
     "execution_count": 58,
     "metadata": {},
     "output_type": "execute_result"
    }
   ],
   "source": [
    "new_df.columns"
   ]
  },
  {
   "cell_type": "code",
   "execution_count": 59,
   "id": "90f55388",
   "metadata": {
    "execution": {
     "iopub.execute_input": "2024-11-19T17:07:27.277552Z",
     "iopub.status.busy": "2024-11-19T17:07:27.277259Z",
     "iopub.status.idle": "2024-11-19T17:07:27.288986Z",
     "shell.execute_reply": "2024-11-19T17:07:27.288143Z"
    },
    "papermill": {
     "duration": 0.033631,
     "end_time": "2024-11-19T17:07:27.290706",
     "exception": false,
     "start_time": "2024-11-19T17:07:27.257075",
     "status": "completed"
    },
    "tags": []
   },
   "outputs": [],
   "source": [
    "final_df = new_df.copy()"
   ]
  },
  {
   "cell_type": "markdown",
   "id": "282f48fa",
   "metadata": {
    "papermill": {
     "duration": 0.019525,
     "end_time": "2024-11-19T17:07:27.329668",
     "exception": false,
     "start_time": "2024-11-19T17:07:27.310143",
     "status": "completed"
    },
    "tags": []
   },
   "source": [
    "### **Creating encoder and implimenting them into pipeline**\n",
    "---\n",
    "---"
   ]
  },
  {
   "cell_type": "code",
   "execution_count": 60,
   "id": "9cc86557",
   "metadata": {
    "execution": {
     "iopub.execute_input": "2024-11-19T17:07:27.368081Z",
     "iopub.status.busy": "2024-11-19T17:07:27.367832Z",
     "iopub.status.idle": "2024-11-19T17:07:27.371454Z",
     "shell.execute_reply": "2024-11-19T17:07:27.370788Z"
    },
    "papermill": {
     "duration": 0.025055,
     "end_time": "2024-11-19T17:07:27.373209",
     "exception": false,
     "start_time": "2024-11-19T17:07:27.348154",
     "status": "completed"
    },
    "tags": []
   },
   "outputs": [],
   "source": [
    "from sklearn.pipeline import Pipeline"
   ]
  },
  {
   "cell_type": "code",
   "execution_count": 61,
   "id": "273ec811",
   "metadata": {
    "execution": {
     "iopub.execute_input": "2024-11-19T17:07:27.412131Z",
     "iopub.status.busy": "2024-11-19T17:07:27.411901Z",
     "iopub.status.idle": "2024-11-19T17:07:27.416302Z",
     "shell.execute_reply": "2024-11-19T17:07:27.415455Z"
    },
    "papermill": {
     "duration": 0.025438,
     "end_time": "2024-11-19T17:07:27.417867",
     "exception": false,
     "start_time": "2024-11-19T17:07:27.392429",
     "status": "completed"
    },
    "tags": []
   },
   "outputs": [],
   "source": [
    "pipe_categorical = Pipeline(\n",
    "    steps=[\n",
    "        ('ordinal_encoder', OrdinalEncoder(categories=[['salvage', 'fair', 'unknown', 'good', 'excellent', 'like new', 'new']])),\n",
    "        ('one_hot_encoder', OneHotEncoder(sparse_output=False, drop='first'))\n",
    "    ]\n",
    ")"
   ]
  },
  {
   "cell_type": "code",
   "execution_count": 62,
   "id": "a2b4cc19",
   "metadata": {
    "execution": {
     "iopub.execute_input": "2024-11-19T17:07:27.455926Z",
     "iopub.status.busy": "2024-11-19T17:07:27.455662Z",
     "iopub.status.idle": "2024-11-19T17:07:27.459315Z",
     "shell.execute_reply": "2024-11-19T17:07:27.458554Z"
    },
    "papermill": {
     "duration": 0.02456,
     "end_time": "2024-11-19T17:07:27.460888",
     "exception": false,
     "start_time": "2024-11-19T17:07:27.436328",
     "status": "completed"
    },
    "tags": []
   },
   "outputs": [],
   "source": [
    "pipe_numerical = Pipeline(\n",
    "    steps = [('standard_scaler', StandardScaler())]\n",
    ")"
   ]
  },
  {
   "cell_type": "code",
   "execution_count": 63,
   "id": "07f02ec0",
   "metadata": {
    "execution": {
     "iopub.execute_input": "2024-11-19T17:07:27.498554Z",
     "iopub.status.busy": "2024-11-19T17:07:27.498319Z",
     "iopub.status.idle": "2024-11-19T17:07:27.502419Z",
     "shell.execute_reply": "2024-11-19T17:07:27.501662Z"
    },
    "papermill": {
     "duration": 0.024784,
     "end_time": "2024-11-19T17:07:27.503976",
     "exception": false,
     "start_time": "2024-11-19T17:07:27.479192",
     "status": "completed"
    },
    "tags": []
   },
   "outputs": [],
   "source": [
    "column_transformer = ColumnTransformer(transformers=[\n",
    "    ('condition_pipe_trans', Pipeline(\n",
    "        steps=[('ordinal_encoder', OrdinalEncoder(categories=[['salvage', 'fair', 'unknown', 'good', 'excellent', 'like new', 'new']]))]),\n",
    "     ['condition']),\n",
    "    ('categorical_pipe_trans', Pipeline(\n",
    "        steps=[('one_hot_encoder', OneHotEncoder(sparse_output=False, drop='first'))]),\n",
    "     ['model', 'manufacturer', 'fuel', 'cylinders', 'title_status', 'transmission', 'drive', 'type', 'paint_color']),\n",
    "    ('numerical_pipe_trans', pipe_numerical, ['odometer'])\n",
    "])"
   ]
  },
  {
   "cell_type": "markdown",
   "id": "5d2a210d",
   "metadata": {
    "papermill": {
     "duration": 0.018403,
     "end_time": "2024-11-19T17:07:27.540644",
     "exception": false,
     "start_time": "2024-11-19T17:07:27.522241",
     "status": "completed"
    },
    "tags": []
   },
   "source": [
    "#### **Train-test-split**\n",
    "---"
   ]
  },
  {
   "cell_type": "code",
   "execution_count": 64,
   "id": "ca4ba11c",
   "metadata": {
    "execution": {
     "iopub.execute_input": "2024-11-19T17:07:27.578853Z",
     "iopub.status.busy": "2024-11-19T17:07:27.578396Z",
     "iopub.status.idle": "2024-11-19T17:07:27.662251Z",
     "shell.execute_reply": "2024-11-19T17:07:27.661670Z"
    },
    "papermill": {
     "duration": 0.104695,
     "end_time": "2024-11-19T17:07:27.663975",
     "exception": false,
     "start_time": "2024-11-19T17:07:27.559280",
     "status": "completed"
    },
    "tags": []
   },
   "outputs": [],
   "source": [
    "from sklearn.model_selection import train_test_split"
   ]
  },
  {
   "cell_type": "code",
   "execution_count": 65,
   "id": "93ba7be1",
   "metadata": {
    "execution": {
     "iopub.execute_input": "2024-11-19T17:07:27.704819Z",
     "iopub.status.busy": "2024-11-19T17:07:27.704566Z",
     "iopub.status.idle": "2024-11-19T17:07:27.782679Z",
     "shell.execute_reply": "2024-11-19T17:07:27.781745Z"
    },
    "papermill": {
     "duration": 0.099924,
     "end_time": "2024-11-19T17:07:27.784709",
     "exception": false,
     "start_time": "2024-11-19T17:07:27.684785",
     "status": "completed"
    },
    "tags": []
   },
   "outputs": [],
   "source": [
    "X_train, X_test, y_train, y_test = train_test_split(final_df.drop(['price'], axis = 1), final_df['price'], random_state = 42, test_size = .2)"
   ]
  },
  {
   "cell_type": "code",
   "execution_count": 66,
   "id": "2dd6c149",
   "metadata": {
    "execution": {
     "iopub.execute_input": "2024-11-19T17:07:27.824062Z",
     "iopub.status.busy": "2024-11-19T17:07:27.823799Z",
     "iopub.status.idle": "2024-11-19T17:07:27.934191Z",
     "shell.execute_reply": "2024-11-19T17:07:27.933597Z"
    },
    "papermill": {
     "duration": 0.131717,
     "end_time": "2024-11-19T17:07:27.935892",
     "exception": false,
     "start_time": "2024-11-19T17:07:27.804175",
     "status": "completed"
    },
    "tags": []
   },
   "outputs": [],
   "source": [
    "X_train.index = [0] * len(X_train)\n",
    "X_test.index = [0] * len(X_test)\n",
    "y_train.index = [0] * len(y_train)\n",
    "y_test.index = [0] * len(X_test)"
   ]
  },
  {
   "cell_type": "code",
   "execution_count": 67,
   "id": "d5b2b6c6",
   "metadata": {},
   "outputs": [
    {
     "name": "stdout",
     "output_type": "stream",
     "text": [
      "Index(['manufacturer', 'model', 'condition', 'cylinders', 'fuel', 'odometer',\n",
      "       'title_status', 'transmission', 'drive', 'type', 'paint_color',\n",
      "       'car_age'],\n",
      "      dtype='object')\n"
     ]
    }
   ],
   "source": [
    "print(X_train.columns)"
   ]
  },
  {
   "cell_type": "code",
   "execution_count": 68,
   "id": "475fbce7",
   "metadata": {
    "execution": {
     "iopub.execute_input": "2024-11-19T17:07:27.974627Z",
     "iopub.status.busy": "2024-11-19T17:07:27.974330Z",
     "iopub.status.idle": "2024-11-19T17:07:28.673601Z",
     "shell.execute_reply": "2024-11-19T17:07:28.672904Z"
    },
    "papermill": {
     "duration": 0.720684,
     "end_time": "2024-11-19T17:07:28.675630",
     "exception": false,
     "start_time": "2024-11-19T17:07:27.954946",
     "status": "completed"
    },
    "tags": []
   },
   "outputs": [],
   "source": [
    "X_train_tnf = column_transformer.fit_transform(X_train)"
   ]
  },
  {
   "cell_type": "code",
   "execution_count": 69,
   "id": "0079b1a4",
   "metadata": {
    "execution": {
     "iopub.execute_input": "2024-11-19T17:07:28.716948Z",
     "iopub.status.busy": "2024-11-19T17:07:28.716243Z",
     "iopub.status.idle": "2024-11-19T17:07:28.875278Z",
     "shell.execute_reply": "2024-11-19T17:07:28.874369Z"
    },
    "papermill": {
     "duration": 0.181194,
     "end_time": "2024-11-19T17:07:28.877290",
     "exception": false,
     "start_time": "2024-11-19T17:07:28.696096",
     "status": "completed"
    },
    "tags": []
   },
   "outputs": [],
   "source": [
    "X_test_tnf = column_transformer.transform(X_test)"
   ]
  },
  {
   "cell_type": "code",
   "execution_count": 70,
   "id": "9f1f1303",
   "metadata": {
    "execution": {
     "iopub.execute_input": "2024-11-19T17:07:28.917323Z",
     "iopub.status.busy": "2024-11-19T17:07:28.917048Z",
     "iopub.status.idle": "2024-11-19T17:07:28.921458Z",
     "shell.execute_reply": "2024-11-19T17:07:28.920742Z"
    },
    "papermill": {
     "duration": 0.026195,
     "end_time": "2024-11-19T17:07:28.923213",
     "exception": false,
     "start_time": "2024-11-19T17:07:28.897018",
     "status": "completed"
    },
    "tags": []
   },
   "outputs": [
    {
     "name": "stdout",
     "output_type": "stream",
     "text": [
      "(218872, 122)\n",
      "(54718, 122)\n"
     ]
    }
   ],
   "source": [
    "print(pd.DataFrame(X_train_tnf).shape)\n",
    "print(pd.DataFrame(X_test_tnf).shape)"
   ]
  },
  {
   "cell_type": "markdown",
   "id": "99565c2c",
   "metadata": {
    "papermill": {
     "duration": 0.018932,
     "end_time": "2024-11-19T17:07:28.961192",
     "exception": false,
     "start_time": "2024-11-19T17:07:28.942260",
     "status": "completed"
    },
    "tags": []
   },
   "source": [
    "## **Model Training**\n",
    "---\n",
    "---"
   ]
  },
  {
   "cell_type": "code",
   "execution_count": 71,
   "id": "2425eeb1",
   "metadata": {
    "execution": {
     "iopub.execute_input": "2024-11-19T17:07:29.000184Z",
     "iopub.status.busy": "2024-11-19T17:07:28.999928Z",
     "iopub.status.idle": "2024-11-19T17:07:29.281176Z",
     "shell.execute_reply": "2024-11-19T17:07:29.280555Z"
    },
    "papermill": {
     "duration": 0.30319,
     "end_time": "2024-11-19T17:07:29.283064",
     "exception": false,
     "start_time": "2024-11-19T17:07:28.979874",
     "status": "completed"
    },
    "tags": []
   },
   "outputs": [],
   "source": [
    "from sklearn.metrics import mean_squared_error, mean_absolute_error,  r2_score, mean_squared_log_error\n",
    "from sklearn.linear_model import LinearRegression\n",
    "from sklearn.linear_model import Ridge\n",
    "from sklearn.neighbors import KNeighborsRegressor\n",
    "from sklearn.ensemble import RandomForestRegressor\n",
    "from sklearn.ensemble import BaggingRegressor\n",
    "from sklearn.tree import DecisionTreeRegressor\n",
    "import warnings\n",
    "warnings.filterwarnings('ignore')"
   ]
  },
  {
   "cell_type": "code",
   "execution_count": 72,
   "id": "6d4b45fb",
   "metadata": {
    "execution": {
     "iopub.execute_input": "2024-11-19T17:07:29.323432Z",
     "iopub.status.busy": "2024-11-19T17:07:29.323208Z",
     "iopub.status.idle": "2024-11-19T17:07:29.328481Z",
     "shell.execute_reply": "2024-11-19T17:07:29.327855Z"
    },
    "papermill": {
     "duration": 0.026793,
     "end_time": "2024-11-19T17:07:29.330003",
     "exception": false,
     "start_time": "2024-11-19T17:07:29.303210",
     "status": "completed"
    },
    "tags": []
   },
   "outputs": [],
   "source": [
    "def result(y_test, y_pred):\n",
    "    r=[]\n",
    "    r.append('%.4f' % r2_score(y_test,y_pred))\n",
    "    r.append('%.4f' % (r2_score(y_test,y_pred)*100))\n",
    "    r.append('%.2f' % mean_squared_error(y_test, y_pred))\n",
    "    r.append('%.2f' % mean_absolute_error(y_test, y_pred))\n",
    "    r.append('%.2f' % np.sqrt(mean_squared_error(y_test, y_pred)))\n",
    "    \n",
    "    return (r)\n",
    "\n",
    "#dataframe that store the performance of each model\n",
    "score_data = pd.DataFrame(index=['R2 Score', 'Accuracy(%)', 'Mean Squared Error', 'Mean Absolute Error', 'Root MSE'])"
   ]
  },
  {
   "cell_type": "markdown",
   "id": "900e6391",
   "metadata": {
    "papermill": {
     "duration": 0.018687,
     "end_time": "2024-11-19T17:07:29.367348",
     "exception": false,
     "start_time": "2024-11-19T17:07:29.348661",
     "status": "completed"
    },
    "tags": []
   },
   "source": [
    "### **Linear Regression**\n",
    "---"
   ]
  },
  {
   "cell_type": "code",
   "execution_count": 73,
   "id": "bcb1fd4d",
   "metadata": {
    "execution": {
     "iopub.execute_input": "2024-11-19T17:07:29.448717Z",
     "iopub.status.busy": "2024-11-19T17:07:29.448391Z",
     "iopub.status.idle": "2024-11-19T17:07:31.256754Z",
     "shell.execute_reply": "2024-11-19T17:07:31.254590Z"
    },
    "papermill": {
     "duration": 1.87485,
     "end_time": "2024-11-19T17:07:31.261450",
     "exception": false,
     "start_time": "2024-11-19T17:07:29.386600",
     "status": "completed"
    },
    "tags": []
   },
   "outputs": [],
   "source": [
    "LR = LinearRegression()\n",
    "LR.fit(X_train_tnf, y_train)\n",
    "y_pred = LR.predict(X_test_tnf)"
   ]
  },
  {
   "cell_type": "code",
   "execution_count": 74,
   "id": "c4709313",
   "metadata": {
    "execution": {
     "iopub.execute_input": "2024-11-19T17:07:31.401829Z",
     "iopub.status.busy": "2024-11-19T17:07:31.401555Z",
     "iopub.status.idle": "2024-11-19T17:07:31.412938Z",
     "shell.execute_reply": "2024-11-19T17:07:31.411843Z"
    },
    "papermill": {
     "duration": 0.041131,
     "end_time": "2024-11-19T17:07:31.414552",
     "exception": false,
     "start_time": "2024-11-19T17:07:31.373421",
     "status": "completed"
    },
    "tags": []
   },
   "outputs": [
    {
     "name": "stdout",
     "output_type": "stream",
     "text": [
      "R2_score:  0.6264\n",
      "Mean squared error:  54250663.20\n",
      "Mean absolute error:  5560.76\n",
      "Root mean squared error:  7365.50\n"
     ]
    }
   ],
   "source": [
    "R2_score = r2_score(y_test, y_pred)*100\n",
    "score_lr = result(y_test, y_pred)\n",
    "score_data['Linear Regression'] = score_lr\n",
    "print('R2_score: ', score_lr[0])\n",
    "print('Mean squared error: ', score_lr[2])\n",
    "print('Mean absolute error: ', score_lr[3])\n",
    "print('Root mean squared error: ', score_lr[4])"
   ]
  },
  {
   "cell_type": "markdown",
   "id": "9fe25f29",
   "metadata": {
    "papermill": {
     "duration": 0.018814,
     "end_time": "2024-11-19T17:07:31.452437",
     "exception": false,
     "start_time": "2024-11-19T17:07:31.433623",
     "status": "completed"
    },
    "tags": []
   },
   "source": [
    "### **K-Nearest Neighbour**\n",
    "---"
   ]
  },
  {
   "cell_type": "code",
   "execution_count": 75,
   "id": "e96b44f5",
   "metadata": {
    "execution": {
     "iopub.execute_input": "2024-11-19T17:07:31.493326Z",
     "iopub.status.busy": "2024-11-19T17:07:31.493068Z",
     "iopub.status.idle": "2024-11-19T17:21:49.641089Z",
     "shell.execute_reply": "2024-11-19T17:21:49.640233Z"
    },
    "papermill": {
     "duration": 858.190822,
     "end_time": "2024-11-19T17:21:49.663617",
     "exception": false,
     "start_time": "2024-11-19T17:07:31.472795",
     "status": "completed"
    },
    "tags": []
   },
   "outputs": [
    {
     "data": {
      "image/png": "[encoded data removed]",
      "text/plain": [
       "<Figure size 1000x600 with 1 Axes>"
      ]
     },
     "metadata": {},
     "output_type": "display_data"
    }
   ],
   "source": [
    "k_values = range(1, 21)  # k from 1 to 20\n",
    "errors = []\n",
    "\n",
    "# Train and calculate errors\n",
    "for k in k_values:\n",
    "    model = KNeighborsRegressor(n_neighbors=k)\n",
    "    model.fit(X_train_tnf, y_train)\n",
    "    y_pred = model.predict(X_test_tnf)\n",
    "    mse = mean_squared_error(y_test, y_pred)\n",
    "    errors.append(mse)\n",
    "\n",
    "# Plot the graph\n",
    "plt.figure(figsize=(10, 6))\n",
    "plt.plot(k_values, errors, marker='o', linestyle='-', color='b')\n",
    "plt.title('KNN Regressor - Inertia Graph (MSE vs. k)')\n",
    "plt.xlabel('Number of Neighbors (k)')\n",
    "plt.ylabel('Mean Squared Error (MSE)')\n",
    "plt.xticks(k_values)\n",
    "plt.grid()\n",
    "plt.show()"
   ]
  },
  {
   "cell_type": "code",
   "execution_count": 76,
   "id": "2856af42",
   "metadata": {
    "execution": {
     "iopub.execute_input": "2024-11-19T17:21:49.704934Z",
     "iopub.status.busy": "2024-11-19T17:21:49.704653Z",
     "iopub.status.idle": "2024-11-19T17:22:31.883982Z",
     "shell.execute_reply": "2024-11-19T17:22:31.883280Z"
    },
    "papermill": {
     "duration": 42.202734,
     "end_time": "2024-11-19T17:22:31.886543",
     "exception": false,
     "start_time": "2024-11-19T17:21:49.683809",
     "status": "completed"
    },
    "tags": []
   },
   "outputs": [],
   "source": [
    "KNN = KNeighborsRegressor(n_neighbors=3) \n",
    "KNN.fit(X_train_tnf, y_train)\n",
    "y_pred = KNN.predict(X_test_tnf)"
   ]
  },
  {
   "cell_type": "code",
   "execution_count": 77,
   "id": "fc8e3297",
   "metadata": {
    "execution": {
     "iopub.execute_input": "2024-11-19T17:22:31.930072Z",
     "iopub.status.busy": "2024-11-19T17:22:31.929814Z",
     "iopub.status.idle": "2024-11-19T17:22:31.939973Z",
     "shell.execute_reply": "2024-11-19T17:22:31.939001Z"
    },
    "papermill": {
     "duration": 0.032305,
     "end_time": "2024-11-19T17:22:31.941557",
     "exception": false,
     "start_time": "2024-11-19T17:22:31.909252",
     "status": "completed"
    },
    "tags": []
   },
   "outputs": [
    {
     "name": "stdout",
     "output_type": "stream",
     "text": [
      "R2 score:  0.7781\n",
      "Mean squared error:  32224245.03\n",
      "Mean absolute error:  3244.18\n",
      "Root mean squared error:  5676.64\n"
     ]
    }
   ],
   "source": [
    "score_knn = result(y_test, y_pred)\n",
    "score_data['K-Nearest Neighbour'] = score_knn\n",
    "print('R2 score: ', score_knn[0])\n",
    "print('Mean squared error: ', score_knn[2])\n",
    "print('Mean absolute error: ', score_knn[3])\n",
    "print('Root mean squared error: ', score_knn[4])"
   ]
  },
  {
   "cell_type": "markdown",
   "id": "2cd04a19",
   "metadata": {
    "papermill": {
     "duration": 0.020139,
     "end_time": "2024-11-19T17:22:31.981976",
     "exception": false,
     "start_time": "2024-11-19T17:22:31.961837",
     "status": "completed"
    },
    "tags": []
   },
   "source": [
    "### **Random Forest Regression**\n",
    "---"
   ]
  },
  {
   "cell_type": "code",
   "execution_count": 78,
   "id": "85b9108d",
   "metadata": {
    "execution": {
     "iopub.execute_input": "2024-11-19T17:22:32.022782Z",
     "iopub.status.busy": "2024-11-19T17:22:32.022145Z",
     "iopub.status.idle": "2024-11-19T17:23:47.665445Z",
     "shell.execute_reply": "2024-11-19T17:23:47.664753Z"
    },
    "papermill": {
     "duration": 75.666198,
     "end_time": "2024-11-19T17:23:47.667675",
     "exception": false,
     "start_time": "2024-11-19T17:22:32.001477",
     "status": "completed"
    },
    "tags": []
   },
   "outputs": [],
   "source": [
    "RFR = RandomForestRegressor(n_estimators=150,random_state=0, min_samples_leaf=1, max_features=0.3, n_jobs=-1, oob_score=True)\n",
    "RFR.fit(X_train_tnf, y_train)\n",
    "y_pred = RFR.predict(X_test_tnf)"
   ]
  },
  {
   "cell_type": "code",
   "execution_count": 79,
   "id": "5fc80509",
   "metadata": {
    "execution": {
     "iopub.execute_input": "2024-11-19T17:23:47.710964Z",
     "iopub.status.busy": "2024-11-19T17:23:47.710720Z",
     "iopub.status.idle": "2024-11-19T17:23:47.719529Z",
     "shell.execute_reply": "2024-11-19T17:23:47.718617Z"
    },
    "papermill": {
     "duration": 0.031439,
     "end_time": "2024-11-19T17:23:47.721141",
     "exception": false,
     "start_time": "2024-11-19T17:23:47.689702",
     "status": "completed"
    },
    "tags": []
   },
   "outputs": [
    {
     "name": "stdout",
     "output_type": "stream",
     "text": [
      "R2 score:  0.8460\n",
      "Mean squared error:  22364692.71\n",
      "Mean absolute error:  2638.73\n",
      "Root mean squared error:  4729.13\n"
     ]
    }
   ],
   "source": [
    "score_rfr = result(y_test, y_pred)\n",
    "score_data['Random Forest Regression'] = score_rfr\n",
    "print('R2 score: ', score_rfr[0])\n",
    "print('Mean squared error: ', score_rfr[2])\n",
    "print('Mean absolute error: ', score_rfr[3])\n",
    "print('Root mean squared error: ', score_rfr[4])"
   ]
  },
  {
   "cell_type": "markdown",
   "id": "28323e48",
   "metadata": {
    "papermill": {
     "duration": 0.019819,
     "end_time": "2024-11-19T17:23:47.760991",
     "exception": false,
     "start_time": "2024-11-19T17:23:47.741172",
     "status": "completed"
    },
    "tags": []
   },
   "source": [
    "### **Decision Tree Regressor**\n",
    "---"
   ]
  },
  {
   "cell_type": "code",
   "execution_count": 80,
   "id": "27c9a946",
   "metadata": {
    "execution": {
     "iopub.execute_input": "2024-11-19T17:23:47.801993Z",
     "iopub.status.busy": "2024-11-19T17:23:47.801765Z",
     "iopub.status.idle": "2024-11-19T17:23:52.757672Z",
     "shell.execute_reply": "2024-11-19T17:23:52.757006Z"
    },
    "papermill": {
     "duration": 4.978789,
     "end_time": "2024-11-19T17:23:52.759594",
     "exception": false,
     "start_time": "2024-11-19T17:23:47.780805",
     "status": "completed"
    },
    "tags": []
   },
   "outputs": [],
   "source": [
    "DTR = DecisionTreeRegressor()\n",
    "DTR.fit(X_train_tnf, y_train)\n",
    "y_pred = DTR.predict(X_test_tnf)"
   ]
  },
  {
   "cell_type": "code",
   "execution_count": 81,
   "id": "be7534e2",
   "metadata": {
    "execution": {
     "iopub.execute_input": "2024-11-19T17:23:52.804022Z",
     "iopub.status.busy": "2024-11-19T17:23:52.803440Z",
     "iopub.status.idle": "2024-11-19T17:23:52.812213Z",
     "shell.execute_reply": "2024-11-19T17:23:52.811565Z"
    },
    "papermill": {
     "duration": 0.032468,
     "end_time": "2024-11-19T17:23:52.813784",
     "exception": false,
     "start_time": "2024-11-19T17:23:52.781316",
     "status": "completed"
    },
    "tags": []
   },
   "outputs": [
    {
     "name": "stdout",
     "output_type": "stream",
     "text": [
      "R2 score:  0.7245\n",
      "Mean squared error:  40003258.38\n",
      "Mean absolute error:  3218.54\n",
      "Root mean squared error:  6324.81\n"
     ]
    }
   ],
   "source": [
    "score_dtr = result(y_test, y_pred)\n",
    "score_data['Decision Tree Regressor'] = score_dtr\n",
    "print('R2 score: ', score_dtr[0])\n",
    "print('Mean squared error: ', score_dtr[2])\n",
    "print('Mean absolute error: ', score_dtr[3])\n",
    "print('Root mean squared error: ', score_dtr[4])"
   ]
  },
  {
   "cell_type": "markdown",
   "id": "eb03a57b",
   "metadata": {
    "papermill": {
     "duration": 0.019778,
     "end_time": "2024-11-19T17:23:52.853448",
     "exception": false,
     "start_time": "2024-11-19T17:23:52.833670",
     "status": "completed"
    },
    "tags": []
   },
   "source": [
    "## **Overall result and model selection**\n",
    "---\n",
    "---"
   ]
  },
  {
   "cell_type": "code",
   "execution_count": 82,
   "id": "92052566",
   "metadata": {
    "execution": {
     "iopub.execute_input": "2024-11-19T17:23:52.894431Z",
     "iopub.status.busy": "2024-11-19T17:23:52.893948Z",
     "iopub.status.idle": "2024-11-19T17:23:52.901940Z",
     "shell.execute_reply": "2024-11-19T17:23:52.901201Z"
    },
    "papermill": {
     "duration": 0.030227,
     "end_time": "2024-11-19T17:23:52.903476",
     "exception": false,
     "start_time": "2024-11-19T17:23:52.873249",
     "status": "completed"
    },
    "tags": []
   },
   "outputs": [
    {
     "data": {
      "text/html": [
       "<div>\n",
       "<style scoped>\n",
       "    .dataframe tbody tr th:only-of-type {\n",
       "        vertical-align: middle;\n",
       "    }\n",
       "\n",
       "    .dataframe tbody tr th {\n",
       "        vertical-align: top;\n",
       "    }\n",
       "\n",
       "    .dataframe thead th {\n",
       "        text-align: right;\n",
       "    }\n",
       "</style>\n",
       "<table border=\"1\" class=\"dataframe\">\n",
       "  <thead>\n",
       "    <tr style=\"text-align: right;\">\n",
       "      <th></th>\n",
       "      <th>Linear Regression</th>\n",
       "      <th>K-Nearest Neighbour</th>\n",
       "      <th>Random Forest Regression</th>\n",
       "      <th>Decision Tree Regressor</th>\n",
       "    </tr>\n",
       "  </thead>\n",
       "  <tbody>\n",
       "    <tr>\n",
       "      <th>R2 Score</th>\n",
       "      <td>0.6264</td>\n",
       "      <td>0.7781</td>\n",
       "      <td>0.8460</td>\n",
       "      <td>0.7245</td>\n",
       "    </tr>\n",
       "    <tr>\n",
       "      <th>Accuracy(%)</th>\n",
       "      <td>62.6378</td>\n",
       "      <td>77.8073</td>\n",
       "      <td>84.5975</td>\n",
       "      <td>72.4499</td>\n",
       "    </tr>\n",
       "    <tr>\n",
       "      <th>Mean Squared Error</th>\n",
       "      <td>54250663.20</td>\n",
       "      <td>32224245.03</td>\n",
       "      <td>22364692.71</td>\n",
       "      <td>40003258.38</td>\n",
       "    </tr>\n",
       "    <tr>\n",
       "      <th>Mean Absolute Error</th>\n",
       "      <td>5560.76</td>\n",
       "      <td>3244.18</td>\n",
       "      <td>2638.73</td>\n",
       "      <td>3218.54</td>\n",
       "    </tr>\n",
       "    <tr>\n",
       "      <th>Root MSE</th>\n",
       "      <td>7365.50</td>\n",
       "      <td>5676.64</td>\n",
       "      <td>4729.13</td>\n",
       "      <td>6324.81</td>\n",
       "    </tr>\n",
       "  </tbody>\n",
       "</table>\n",
       "</div>"
      ],
      "text/plain": [
       "                    Linear Regression K-Nearest Neighbour  \\\n",
       "R2 Score                       0.6264              0.7781   \n",
       "Accuracy(%)                   62.6378             77.8073   \n",
       "Mean Squared Error        54250663.20         32224245.03   \n",
       "Mean Absolute Error           5560.76             3244.18   \n",
       "Root MSE                      7365.50             5676.64   \n",
       "\n",
       "                    Random Forest Regression Decision Tree Regressor  \n",
       "R2 Score                              0.8460                  0.7245  \n",
       "Accuracy(%)                          84.5975                 72.4499  \n",
       "Mean Squared Error               22364692.71             40003258.38  \n",
       "Mean Absolute Error                  2638.73                 3218.54  \n",
       "Root MSE                             4729.13                 6324.81  "
      ]
     },
     "execution_count": 82,
     "metadata": {},
     "output_type": "execute_result"
    }
   ],
   "source": [
    "score_data"
   ]
  },
  {
   "cell_type": "code",
   "execution_count": 83,
   "id": "fa958a77",
   "metadata": {
    "execution": {
     "iopub.execute_input": "2024-11-19T17:23:52.945383Z",
     "iopub.status.busy": "2024-11-19T17:23:52.945183Z",
     "iopub.status.idle": "2024-11-19T17:23:52.949949Z",
     "shell.execute_reply": "2024-11-19T17:23:52.949299Z"
    },
    "papermill": {
     "duration": 0.027142,
     "end_time": "2024-11-19T17:23:52.951364",
     "exception": false,
     "start_time": "2024-11-19T17:23:52.924222",
     "status": "completed"
    },
    "tags": []
   },
   "outputs": [],
   "source": [
    "for i in score_data.columns:\n",
    "  score_data[i] = score_data[i].astype(float)\n",
    "model_accuracy = score_data.loc['Accuracy(%)']"
   ]
  },
  {
   "cell_type": "code",
   "execution_count": 84,
   "id": "d1b7dc95",
   "metadata": {
    "execution": {
     "iopub.execute_input": "2024-11-19T17:23:52.992727Z",
     "iopub.status.busy": "2024-11-19T17:23:52.992526Z",
     "iopub.status.idle": "2024-11-19T17:23:54.003979Z",
     "shell.execute_reply": "2024-11-19T17:23:54.003146Z"
    },
    "papermill": {
     "duration": 1.034019,
     "end_time": "2024-11-19T17:23:54.005641",
     "exception": false,
     "start_time": "2024-11-19T17:23:52.971622",
     "status": "completed"
    },
    "tags": []
   },
   "outputs": [
    {
     "data": {
      "image/png": "[encoded data removed]",
      "text/plain": [
       "<Figure size 2000x600 with 1 Axes>"
      ]
     },
     "metadata": {},
     "output_type": "display_data"
    }
   ],
   "source": [
    "x=list(range(len(model_accuracy)))\n",
    "y=list(range(0,101,10))\n",
    "props = dict(boxstyle='round', facecolor='white', alpha=0.8)\n",
    "plt.figure(figsize=(20,6))\n",
    "plt.plot(model_accuracy)\n",
    "plt.yticks(y)\n",
    "plt.xticks(fontsize=20)\n",
    "plt.xticks(rotation = (10))\n",
    "plt.xlabel(\"Models\",fontsize=30)\n",
    "plt.ylabel(\"Accuracy(%)\",fontsize=30)\n",
    "plt.title(\"Performance of Models\")\n",
    "for a,b in zip(x,y):\n",
    "    b=model_accuracy[a]\n",
    "    val=\"(\"+str(round(model_accuracy[a],2))+\" %)\"\n",
    "    plt.text(a, b+4.5, val,horizontalalignment='center',verticalalignment='center',color='green',bbox=props)\n",
    "    plt.text(a, b+3.5, '.',horizontalalignment='center',verticalalignment='center',color='red',fontsize=50)\n",
    "plt.tight_layout()\n",
    "plt.savefig('Overall-Performance.jpg',dpi=600)\n",
    "plt.show()"
   ]
  },
  {
   "cell_type": "markdown",
   "id": "8b692ea9",
   "metadata": {
    "papermill": {
     "duration": 0.021704,
     "end_time": "2024-11-19T17:23:54.049772",
     "exception": false,
     "start_time": "2024-11-19T17:23:54.028068",
     "status": "completed"
    },
    "tags": []
   },
   "source": [
    "## **Final Model Analysis**\n",
    "---\n",
    "---"
   ]
  },
  {
   "cell_type": "code",
   "execution_count": 85,
   "id": "7b63f97d",
   "metadata": {},
   "outputs": [
    {
     "name": "stdout",
     "output_type": "stream",
     "text": [
      "Training the pipeline...\n",
      "Pipeline saved successfully as 'final_pipeline.pkl'.\n"
     ]
    }
   ],
   "source": [
    "import pandas as pd\n",
    "from sklearn.pipeline import Pipeline\n",
    "from sklearn.compose import ColumnTransformer\n",
    "from sklearn.ensemble import RandomForestRegressor\n",
    "from sklearn.preprocessing import OrdinalEncoder, OneHotEncoder, StandardScaler\n",
    "from sklearn.impute import SimpleImputer\n",
    "from sklearn.model_selection import train_test_split\n",
    "import pickle\n",
    "\n",
    "final_df = pd.read_csv('data/vehicles.csv')\n",
    "\n",
    "final_df = final_df.sample(1000, random_state=42)  #smaller dataset for testing\n",
    "\n",
    "categorical_columns = [\n",
    "    'condition', 'model', 'manufacturer', 'fuel', 'cylinders', \n",
    "    'title_status', 'transmission', 'drive', 'type', 'paint_color'\n",
    "]\n",
    "final_df[categorical_columns] = final_df[categorical_columns].fillna('unknown')\n",
    "\n",
    "# Fill missing numerical features with the mean\n",
    "final_df['odometer'] = final_df['odometer'].fillna(final_df['odometer'].mean())\n",
    "\n",
    "# preprocessing for the 'condition' column using OrdinalEncoder\n",
    "pipe_condition = Pipeline([\n",
    "    ('imputer', SimpleImputer(strategy='constant', fill_value='unknown')),  # Handle NaNs\n",
    "    ('ordinal_encoder', OrdinalEncoder(categories=[['salvage', 'fair', 'unknown', 'good', 'excellent', 'like new', 'new']]))\n",
    "])\n",
    "\n",
    "# preprocessing for other categorical features using OneHotEncoder\n",
    "pipe_categorical = Pipeline([\n",
    "    ('imputer', SimpleImputer(strategy='constant', fill_value='unknown')),  # Handle NaNs\n",
    "    ('one_hot_encoder', OneHotEncoder(sparse_output=False, drop='first'))  # One-hot encoding\n",
    "])\n",
    "\n",
    "# preprocessing for numerical features using StandardScaler\n",
    "pipe_numerical = Pipeline([\n",
    "    ('imputer', SimpleImputer(strategy='mean')),  # Handle NaNs\n",
    "    ('standard_scaler', StandardScaler())  # Scale numerical values\n",
    "])\n",
    "\n",
    "# Combine preprocessing pipelines\n",
    "column_transformer = ColumnTransformer(\n",
    "    transformers=[\n",
    "        ('condition_pipe', pipe_condition, ['condition']),  # OrdinalEncoder for 'condition'\n",
    "        ('categorical_pipe', pipe_categorical, \n",
    "         ['model', 'manufacturer', 'fuel', 'cylinders', 'title_status', 'transmission', 'drive', 'type', 'paint_color']),  # OneHotEncoder for other categories\n",
    "        ('numerical_pipe', pipe_numerical, ['odometer'])  # StandardScaler for 'odometer'\n",
    "    ]\n",
    ")\n",
    "\n",
    "# RandomForestRegressor pipeline\n",
    "final_pipeline = Pipeline([\n",
    "    ('preprocessor', column_transformer),\n",
    "    ('regressor', RandomForestRegressor(\n",
    "        n_estimators=150, \n",
    "        random_state=42, \n",
    "        min_samples_leaf=1, \n",
    "        max_features=0.3, \n",
    "        n_jobs=-1, \n",
    "        oob_score=True\n",
    "    ))\n",
    "])\n",
    "\n",
    "# Split the data into training and testing sets\n",
    "X = final_df.drop(columns=['price'])\n",
    "y = final_df['price']\n",
    "X_train, X_test, y_train, y_test = train_test_split(X, y, test_size=0.2, random_state=42)\n",
    "\n",
    "# Train the pipeline\n",
    "print(\"Training the pipeline...\")\n",
    "final_pipeline.fit(X_train, y_train)\n",
    "\n",
    "# Save the trained pipeline to a .pkl file\n",
    "with open('final_pipeline.pkl', 'wb') as file:\n",
    "    pickle.dump(final_pipeline, file)\n",
    "\n",
    "print(\"Pipeline saved successfully as 'final_pipeline.pkl'.\")"
   ]
  },
  {
   "cell_type": "code",
   "execution_count": null,
   "id": "6bf5f847",
   "metadata": {},
   "outputs": [],
   "source": []
  }
 ],
 "metadata": {
  "kaggle": {
   "accelerator": "nvidiaTeslaT4",
   "dataSources": [
    {
     "datasetId": 62920,
     "sourceId": 2201762,
     "sourceType": "datasetVersion"
    }
   ],
   "dockerImageVersionId": 30474,
   "isGpuEnabled": true,
   "isInternetEnabled": true,
   "language": "python",
   "sourceType": "notebook"
  },
  "kernelspec": {
   "display_name": "Python 3",
   "language": "python",
   "name": "python3"
  },
  "language_info": {
   "codemirror_mode": {
    "name": "ipython",
    "version": 3
   },
   "file_extension": ".py",
   "mimetype": "text/x-python",
   "name": "python",
   "nbconvert_exporter": "python",
   "pygments_lexer": "ipython3",
   "version": "3.12.7"
  },
  "papermill": {
   "default_parameters": {},
   "duration": 1378.917444,
   "end_time": "2024-11-19T17:23:58.018006",
   "environment_variables": {},
   "exception": null,
   "input_path": "__notebook__.ipynb",
   "output_path": "__notebook__.ipynb",
   "parameters": {},
   "start_time": "2024-11-19T17:00:59.100562",
   "version": "2.4.0"
  }
 },
 "nbformat": 4,
 "nbformat_minor": 5
}
